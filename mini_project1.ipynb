{
 "cells": [
  {
   "cell_type": "markdown",
   "metadata": {},
   "source": [
    "## TASK1"
   ]
  },
  {
   "cell_type": "code",
   "execution_count": 28,
   "metadata": {},
   "outputs": [],
   "source": [
    "import numpy as np\n",
    "import pandas as pd\n",
    "from matplotlib import pyplot as pt\n",
    "from sklearn.model_selection import train_test_split\n",
    "from models.five_fold_validation import k_fold_validation"
   ]
  },
  {
   "cell_type": "code",
   "execution_count": 29,
   "metadata": {},
   "outputs": [
    {
     "data": {
      "text/html": [
       "<div>\n",
       "<style scoped>\n",
       "    .dataframe tbody tr th:only-of-type {\n",
       "        vertical-align: middle;\n",
       "    }\n",
       "\n",
       "    .dataframe tbody tr th {\n",
       "        vertical-align: top;\n",
       "    }\n",
       "\n",
       "    .dataframe thead th {\n",
       "        text-align: right;\n",
       "    }\n",
       "</style>\n",
       "<table border=\"1\" class=\"dataframe\">\n",
       "  <thead>\n",
       "    <tr style=\"text-align: right;\">\n",
       "      <th></th>\n",
       "      <th>id</th>\n",
       "      <th>thickness</th>\n",
       "      <th>cell_size</th>\n",
       "      <th>cell_shape</th>\n",
       "      <th>adhesion</th>\n",
       "      <th>e_cell_size</th>\n",
       "      <th>bare_nuclei</th>\n",
       "      <th>chromatin</th>\n",
       "      <th>nucleoli</th>\n",
       "      <th>mitosis</th>\n",
       "      <th>class</th>\n",
       "    </tr>\n",
       "  </thead>\n",
       "  <tbody>\n",
       "    <tr>\n",
       "      <td>0</td>\n",
       "      <td>1000025</td>\n",
       "      <td>5</td>\n",
       "      <td>1</td>\n",
       "      <td>1</td>\n",
       "      <td>1</td>\n",
       "      <td>2</td>\n",
       "      <td>1</td>\n",
       "      <td>3</td>\n",
       "      <td>1</td>\n",
       "      <td>1</td>\n",
       "      <td>2</td>\n",
       "    </tr>\n",
       "    <tr>\n",
       "      <td>1</td>\n",
       "      <td>1002945</td>\n",
       "      <td>5</td>\n",
       "      <td>4</td>\n",
       "      <td>4</td>\n",
       "      <td>5</td>\n",
       "      <td>7</td>\n",
       "      <td>10</td>\n",
       "      <td>3</td>\n",
       "      <td>2</td>\n",
       "      <td>1</td>\n",
       "      <td>2</td>\n",
       "    </tr>\n",
       "    <tr>\n",
       "      <td>2</td>\n",
       "      <td>1015425</td>\n",
       "      <td>3</td>\n",
       "      <td>1</td>\n",
       "      <td>1</td>\n",
       "      <td>1</td>\n",
       "      <td>2</td>\n",
       "      <td>2</td>\n",
       "      <td>3</td>\n",
       "      <td>1</td>\n",
       "      <td>1</td>\n",
       "      <td>2</td>\n",
       "    </tr>\n",
       "    <tr>\n",
       "      <td>3</td>\n",
       "      <td>1016277</td>\n",
       "      <td>6</td>\n",
       "      <td>8</td>\n",
       "      <td>8</td>\n",
       "      <td>1</td>\n",
       "      <td>3</td>\n",
       "      <td>4</td>\n",
       "      <td>3</td>\n",
       "      <td>7</td>\n",
       "      <td>1</td>\n",
       "      <td>2</td>\n",
       "    </tr>\n",
       "    <tr>\n",
       "      <td>4</td>\n",
       "      <td>1017023</td>\n",
       "      <td>4</td>\n",
       "      <td>1</td>\n",
       "      <td>1</td>\n",
       "      <td>3</td>\n",
       "      <td>2</td>\n",
       "      <td>1</td>\n",
       "      <td>3</td>\n",
       "      <td>1</td>\n",
       "      <td>1</td>\n",
       "      <td>2</td>\n",
       "    </tr>\n",
       "  </tbody>\n",
       "</table>\n",
       "</div>"
      ],
      "text/plain": [
       "        id  thickness  cell_size  cell_shape  adhesion  e_cell_size  \\\n",
       "0  1000025          5          1           1         1            2   \n",
       "1  1002945          5          4           4         5            7   \n",
       "2  1015425          3          1           1         1            2   \n",
       "3  1016277          6          8           8         1            3   \n",
       "4  1017023          4          1           1         3            2   \n",
       "\n",
       "  bare_nuclei  chromatin  nucleoli  mitosis  class  \n",
       "0           1          3         1        1      2  \n",
       "1          10          3         2        1      2  \n",
       "2           2          3         1        1      2  \n",
       "3           4          3         7        1      2  \n",
       "4           1          3         1        1      2  "
      ]
     },
     "execution_count": 29,
     "metadata": {},
     "output_type": "execute_result"
    }
   ],
   "source": [
    "wine = pd.read_csv(\"data/winequality/winequality-red.csv\", sep=\";\")\n",
    "cancer = pd.read_csv(\"data/breastcancer/breast-cancer-wisconsin.data\", delimiter=\",\")\n",
    "wine.head()\n",
    "cancer.head()"
   ]
  },
  {
   "cell_type": "markdown",
   "metadata": {},
   "source": [
    "### 1.2 (a) for completions sake, reading it into numpy array. "
   ]
  },
  {
   "cell_type": "code",
   "execution_count": 30,
   "metadata": {},
   "outputs": [
    {
     "data": {
      "text/plain": [
       "array([[   nan,    nan,    nan, ...,    nan,    nan,    nan],\n",
       "       [ 7.4  ,  0.7  ,  0.   , ...,  0.56 ,  9.4  ,  5.   ],\n",
       "       [ 7.8  ,  0.88 ,  0.   , ...,  0.68 ,  9.8  ,  5.   ],\n",
       "       ...,\n",
       "       [ 6.3  ,  0.51 ,  0.13 , ...,  0.75 , 11.   ,  6.   ],\n",
       "       [ 5.9  ,  0.645,  0.12 , ...,  0.71 , 10.2  ,  5.   ],\n",
       "       [ 6.   ,  0.31 ,  0.47 , ...,  0.66 , 11.   ,  6.   ]])"
      ]
     },
     "execution_count": 30,
     "metadata": {},
     "output_type": "execute_result"
    }
   ],
   "source": [
    "wine_np = np.genfromtxt(\"data/winequality/winequality-red.csv\", delimiter=\";\") \n",
    "wine_np"
   ]
  },
  {
   "cell_type": "code",
   "execution_count": 31,
   "metadata": {},
   "outputs": [
    {
     "data": {
      "text/plain": [
       "array([[   nan,    nan,    nan, ...,    nan,    nan,    nan],\n",
       "       [ 7.4  ,  0.7  ,  0.   , ...,  0.56 ,  9.4  ,  5.   ],\n",
       "       [ 7.8  ,  0.88 ,  0.   , ...,  0.68 ,  9.8  ,  5.   ],\n",
       "       ...,\n",
       "       [ 6.3  ,  0.51 ,  0.13 , ...,  0.75 , 11.   ,  6.   ],\n",
       "       [ 5.9  ,  0.645,  0.12 , ...,  0.71 , 10.2  ,  5.   ],\n",
       "       [ 6.   ,  0.31 ,  0.47 , ...,  0.66 , 11.   ,  6.   ]])"
      ]
     },
     "execution_count": 31,
     "metadata": {},
     "output_type": "execute_result"
    }
   ],
   "source": [
    "# for completions sake, reading it into numpy array.\n",
    "cancer_np = np.genfromtxt(\"data/winequality/winequality-red.csv\", delimiter=\";\") \n",
    "cancer_np"
   ]
  },
  {
   "cell_type": "markdown",
   "metadata": {},
   "source": [
    "### 1.2 (b) convert wine data and cancer data to binary"
   ]
  },
  {
   "cell_type": "code",
   "execution_count": 32,
   "metadata": {},
   "outputs": [
    {
     "data": {
      "text/plain": [
       "True"
      ]
     },
     "execution_count": 32,
     "metadata": {},
     "output_type": "execute_result"
    }
   ],
   "source": [
    "total_row_count = wine.shape[0]\n",
    "wine['classified'] = [1 if x>=6 else 0 for x in wine[\"quality\"] ]\n",
    "\n",
    "## test conversion, total should equal 0s and 1s\n",
    "total_row_count == wine[wine.classified==1].shape[0] + wine[wine.classified==0].shape[0]"
   ]
  },
  {
   "cell_type": "code",
   "execution_count": 33,
   "metadata": {},
   "outputs": [],
   "source": [
    "## malignant is 1,  benign is 0\n",
    "cancer['classified'] = [1 if x == 4 else 0 for x in cancer[\"class\"]]"
   ]
  },
  {
   "cell_type": "markdown",
   "metadata": {},
   "source": [
    "### 1.3 missing or malinformed features"
   ]
  },
  {
   "cell_type": "code",
   "execution_count": 34,
   "metadata": {
    "scrolled": true
   },
   "outputs": [
    {
     "data": {
      "text/plain": [
       "False"
      ]
     },
     "execution_count": 34,
     "metadata": {},
     "output_type": "execute_result"
    }
   ],
   "source": [
    "# check for anything thats not an int or a float\n",
    "wine_columns_invalid = wine.applymap(lambda x: not isinstance(x, (int, float))).any()\n",
    "wine_columns_invalid.any()"
   ]
  },
  {
   "cell_type": "code",
   "execution_count": 35,
   "metadata": {},
   "outputs": [
    {
     "data": {
      "text/plain": [
       "True"
      ]
     },
     "execution_count": 35,
     "metadata": {},
     "output_type": "execute_result"
    }
   ],
   "source": [
    "cancer_columns_invalid = cancer.applymap(lambda x: not isinstance(x, (int, float))).any()\n",
    "cancer_columns_invalid.any()"
   ]
  },
  {
   "cell_type": "code",
   "execution_count": 36,
   "metadata": {},
   "outputs": [
    {
     "data": {
      "text/plain": [
       "id             False\n",
       "thickness      False\n",
       "cell_size      False\n",
       "cell_shape     False\n",
       "adhesion       False\n",
       "e_cell_size    False\n",
       "bare_nuclei     True\n",
       "chromatin      False\n",
       "nucleoli       False\n",
       "mitosis        False\n",
       "class          False\n",
       "classified     False\n",
       "dtype: bool"
      ]
     },
     "execution_count": 36,
     "metadata": {},
     "output_type": "execute_result"
    }
   ],
   "source": [
    "## check for the faulty column\n",
    "cancer_columns_invalid"
   ]
  },
  {
   "cell_type": "code",
   "execution_count": 37,
   "metadata": {},
   "outputs": [
    {
     "data": {
      "text/plain": [
       "0      <class 'str'>\n",
       "1      <class 'str'>\n",
       "2      <class 'str'>\n",
       "3      <class 'str'>\n",
       "4      <class 'str'>\n",
       "           ...      \n",
       "694    <class 'str'>\n",
       "695    <class 'str'>\n",
       "696    <class 'str'>\n",
       "697    <class 'str'>\n",
       "698    <class 'str'>\n",
       "Name: bare_nuclei, Length: 699, dtype: object"
      ]
     },
     "execution_count": 37,
     "metadata": {},
     "output_type": "execute_result"
    }
   ],
   "source": [
    "cancer.bare_nuclei.apply(lambda x: type(x))"
   ]
  },
  {
   "cell_type": "code",
   "execution_count": 38,
   "metadata": {},
   "outputs": [
    {
     "data": {
      "text/plain": [
       "16"
      ]
     },
     "execution_count": 38,
     "metadata": {},
     "output_type": "execute_result"
    }
   ],
   "source": [
    "cancer[cancer.bare_nuclei == \"?\"].shape[0]"
   ]
  },
  {
   "cell_type": "code",
   "execution_count": 39,
   "metadata": {},
   "outputs": [],
   "source": [
    "## TODO: add fill in the values from context\n",
    "# remove entries where cancer.bare_nuclie == ? and convert the column to int\n",
    "cancer = cancer[cancer.bare_nuclei != \"?\"]\n",
    "cancer.bare_nuclei = pd.to_numeric(cancer.bare_nuclei)"
   ]
  },
  {
   "cell_type": "code",
   "execution_count": 40,
   "metadata": {},
   "outputs": [
    {
     "data": {
      "text/plain": [
       "False"
      ]
     },
     "execution_count": 40,
     "metadata": {},
     "output_type": "execute_result"
    }
   ],
   "source": [
    "## run the checks again, should be false\n",
    "cancer_columns_invalid = cancer.applymap(lambda x: not isinstance(x, (int, float))).any()\n",
    "cancer_columns_invalid.any()"
   ]
  },
  {
   "cell_type": "markdown",
   "metadata": {},
   "source": [
    "### 1.4 Compute statistics for the data"
   ]
  },
  {
   "cell_type": "code",
   "execution_count": 41,
   "metadata": {},
   "outputs": [],
   "source": [
    "wine_X = np.array(wine[['fixed acidity', 'volatile acidity', 'citric acid', 'residual sugar',\n",
    "       'chlorides', 'free sulfur dioxide', 'total sulfur dioxide', 'density',\n",
    "       'pH', 'sulphates', 'alcohol']])\n",
    "wine_y = np.array(wine[['classified']])"
   ]
  },
  {
   "cell_type": "code",
   "execution_count": 42,
   "metadata": {},
   "outputs": [],
   "source": [
    "cancer_X = np.array(cancer[['thickness', 'cell_size', 'cell_shape', 'adhesion', 'e_cell_size',\n",
    "       'bare_nuclei', 'chromatin', 'nucleoli', 'mitosis']])\n",
    "cancer_y = np.array(cancer[[\"classified\"]])"
   ]
  },
  {
   "cell_type": "markdown",
   "metadata": {},
   "source": [
    "##### wine data"
   ]
  },
  {
   "cell_type": "code",
   "execution_count": 43,
   "metadata": {},
   "outputs": [
    {
     "data": {
      "image/png": "[encoded data removed]",
      "text/plain": [
       "<Figure size 432x288 with 1 Axes>"
      ]
     },
     "metadata": {
      "needs_background": "light"
     },
     "output_type": "display_data"
    }
   ],
   "source": [
    "pt.hist(wine.classified)\n",
    "pt.ylabel(\"count of values\")\n",
    "pt.xlabel(\"values\")\n",
    "pt.title('histogram of wine results')\n",
    "pt.show()\n"
   ]
  },
  {
   "cell_type": "code",
   "execution_count": 44,
   "metadata": {},
   "outputs": [
    {
     "data": {
      "image/png": "[encoded data removed]",
      "text/plain": [
       "<Figure size 720x720 with 4 Axes>"
      ]
     },
     "metadata": {
      "needs_background": "light"
     },
     "output_type": "display_data"
    }
   ],
   "source": [
    "fig, axs = pt.subplots(2, 2, figsize=(10,10))\n",
    "axs[0, 0].hist(wine['fixed acidity'])\n",
    "axs[0, 0].set_title('fixed acidity')\n",
    "axs[0, 1].hist(wine['volatile acidity'])\n",
    "axs[0, 1].set_title('volatile acidity')\n",
    "axs[1, 0].hist(wine['citric acid'])\n",
    "axs[1, 0].set_title('citric acid')\n",
    "axs[1, 1].hist(wine['residual sugar'])\n",
    "axs[1, 1].set_title('residual sugar')\n",
    "fig.tight_layout()\n",
    "pt.show()"
   ]
  },
  {
   "cell_type": "markdown",
   "metadata": {},
   "source": [
    "#### cancer data"
   ]
  },
  {
   "cell_type": "code",
   "execution_count": 45,
   "metadata": {},
   "outputs": [
    {
     "data": {
      "image/png": "[encoded data removed]",
      "text/plain": [
       "<Figure size 432x288 with 1 Axes>"
      ]
     },
     "metadata": {
      "needs_background": "light"
     },
     "output_type": "display_data"
    }
   ],
   "source": [
    "bins = np.arange(3)-0.5\n",
    "pt.hist(cancer.classified, width=0.25, align='mid')\n",
    "pt.ylabel(\"count of values\")\n",
    "pt.xlabel(\"values\")\n",
    "pt.title('histogram of cancer results')\n",
    "pt.xticks(range(3))\n",
    "pt.xlim([-1, 2])\n",
    "pt.show()"
   ]
  },
  {
   "cell_type": "code",
   "execution_count": 46,
   "metadata": {},
   "outputs": [
    {
     "data": {
      "image/png": "[encoded data removed]",
      "text/plain": [
       "<Figure size 720x720 with 4 Axes>"
      ]
     },
     "metadata": {
      "needs_background": "light"
     },
     "output_type": "display_data"
    }
   ],
   "source": [
    "fig, axs = pt.subplots(2, 2, figsize=(10,10))\n",
    "axs[0, 0].hist(cancer['thickness'])\n",
    "axs[0, 0].set_title('thickness')\n",
    "axs[0, 1].hist(cancer['cell_size'])\n",
    "axs[0, 1].set_title('cell_size')\n",
    "axs[1, 0].hist(cancer['cell_shape'])\n",
    "axs[1, 0].set_title('cell_shape')\n",
    "axs[1, 1].hist(cancer['bare_nuclei'])\n",
    "axs[1, 1].set_title('bare_nuclei')\n",
    "fig.tight_layout()\n",
    "pt.show()"
   ]
  },
  {
   "cell_type": "markdown",
   "metadata": {},
   "source": [
    "## TASK 2"
   ]
  },
  {
   "cell_type": "code",
   "execution_count": 47,
   "metadata": {},
   "outputs": [],
   "source": [
    "wine_X = np.array(wine[['fixed acidity', 'volatile acidity', 'citric acid', 'residual sugar',\n",
    "       'chlorides', 'free sulfur dioxide', 'total sulfur dioxide', 'density',\n",
    "       'pH', 'sulphates', 'alcohol']])\n",
    "wine_y = np.array(wine[['classified']])"
   ]
  },
  {
   "cell_type": "code",
   "execution_count": 48,
   "metadata": {},
   "outputs": [],
   "source": [
    "cancer_X = np.array(cancer[['thickness', 'cell_size', 'cell_shape', 'adhesion', 'e_cell_size',\n",
    "       'bare_nuclei', 'chromatin', 'nucleoli', 'mitosis']])\n",
    "cancer_y = np.array(cancer[[\"classified\"]])"
   ]
  },
  {
   "cell_type": "code",
   "execution_count": 49,
   "metadata": {},
   "outputs": [],
   "source": [
    "from sklearn.model_selection import train_test_split"
   ]
  },
  {
   "cell_type": "markdown",
   "metadata": {},
   "source": [
    "#### Logistic Regression"
   ]
  },
  {
   "cell_type": "markdown",
   "metadata": {},
   "source": [
    "###### wine data"
   ]
  },
  {
   "cell_type": "code",
   "execution_count": 50,
   "metadata": {},
   "outputs": [],
   "source": [
    "X_train, X_test, y_train, y_test = train_test_split(wine_X, wine_y, test_size=0.20)"
   ]
  },
  {
   "cell_type": "code",
   "execution_count": 51,
   "metadata": {},
   "outputs": [],
   "source": [
    "from sklearn.linear_model import LogisticRegression"
   ]
  },
  {
   "cell_type": "code",
   "execution_count": 52,
   "metadata": {},
   "outputs": [
    {
     "name": "stderr",
     "output_type": "stream",
     "text": [
      "/Users/faizank/Documents/courses/comp551/mini_project1/lib/python3.7/site-packages/sklearn/utils/validation.py:724: DataConversionWarning: A column-vector y was passed when a 1d array was expected. Please change the shape of y to (n_samples, ), for example using ravel().\n",
      "  y = column_or_1d(y, warn=True)\n"
     ]
    },
    {
     "data": {
      "text/plain": [
       "0.75625"
      ]
     },
     "execution_count": 52,
     "metadata": {},
     "output_type": "execute_result"
    }
   ],
   "source": [
    "wine_model=LogisticRegression(solver=\"lbfgs\", max_iter=1000)\n",
    "wine_model.fit(X_train, y_train)\n",
    "y_predicted = wine_model.predict(X_test)\n",
    "wine_model.score(X_test, y_test)"
   ]
  },
  {
   "cell_type": "code",
   "execution_count": 53,
   "metadata": {},
   "outputs": [],
   "source": [
    "from models.logistic_regression import LogisticRegression as CustomLogisticRegression"
   ]
  },
  {
   "cell_type": "code",
   "execution_count": 103,
   "metadata": {},
   "outputs": [
    {
     "name": "stdout",
     "output_type": "stream",
     "text": [
      "starting model training with learning_rate =  1e-05 and num of iterations  100\n",
      "model trained with params [-0.10984422  0.1034986   0.07951772  0.03232871 -0.07745253  0.13648571\n",
      " -0.04847358  0.07049077 -0.05535661]\n"
     ]
    }
   ],
   "source": [
    "custom_wine_model = CustomLogisticRegression(0.00001, 100)\n",
    "custom_wine_model.fit(X_train, y_train)\n",
    "custom_y_predicted = custom_wine_model.predict(X_test)"
   ]
  },
  {
   "cell_type": "code",
   "execution_count": 104,
   "metadata": {},
   "outputs": [
    {
     "data": {
      "text/plain": [
       "0.781021897810219"
      ]
     },
     "execution_count": 104,
     "metadata": {},
     "output_type": "execute_result"
    }
   ],
   "source": [
    "custom_wine_model.score(X_test, y_test)[0]"
   ]
  },
  {
   "cell_type": "markdown",
   "metadata": {},
   "source": [
    "###### cancer data"
   ]
  },
  {
   "cell_type": "code",
   "execution_count": 56,
   "metadata": {},
   "outputs": [],
   "source": [
    "X_train, X_test, y_train, y_test = train_test_split(cancer_X, cancer_y, test_size=0.20)"
   ]
  },
  {
   "cell_type": "code",
   "execution_count": 57,
   "metadata": {},
   "outputs": [
    {
     "name": "stderr",
     "output_type": "stream",
     "text": [
      "/Users/faizank/Documents/courses/comp551/mini_project1/lib/python3.7/site-packages/sklearn/utils/validation.py:724: DataConversionWarning: A column-vector y was passed when a 1d array was expected. Please change the shape of y to (n_samples, ), for example using ravel().\n",
      "  y = column_or_1d(y, warn=True)\n"
     ]
    },
    {
     "data": {
      "text/plain": [
       "0.948905109489051"
      ]
     },
     "execution_count": 57,
     "metadata": {},
     "output_type": "execute_result"
    }
   ],
   "source": [
    "cancer_model = LogisticRegression(solver=\"lbfgs\", max_iter=1000)\n",
    "cancer_model.fit(X_train, y_train)\n",
    "y_predicted = cancer_model.predict(X_test)\n",
    "cancer_model.score(X_test, y_test)"
   ]
  },
  {
   "cell_type": "code",
   "execution_count": 58,
   "metadata": {},
   "outputs": [
    {
     "name": "stdout",
     "output_type": "stream",
     "text": [
      "starting model training with learning_rate =  0.001 and num of iterations  100\n",
      "model trained with params [-1.01094746  1.72888061  0.69645619  0.21356023 -1.79307235  1.11872099\n",
      " -1.10023573  0.65987917 -0.49171299]\n"
     ]
    }
   ],
   "source": [
    "custom_cancer_model = CustomLogisticRegression(0.001, 100)\n",
    "custom_cancer_model.fit(X_train, y_train)\n",
    "custom_y_predicted = custom_cancer_model.predict(X_test)"
   ]
  },
  {
   "cell_type": "code",
   "execution_count": 59,
   "metadata": {},
   "outputs": [
    {
     "data": {
      "text/plain": [
       "0.8686131386861314"
      ]
     },
     "execution_count": 59,
     "metadata": {},
     "output_type": "execute_result"
    }
   ],
   "source": [
    "custom_cancer_model.score(X_test, y_test)[0]"
   ]
  },
  {
   "cell_type": "code",
   "execution_count": null,
   "metadata": {},
   "outputs": [],
   "source": []
  },
  {
   "cell_type": "markdown",
   "metadata": {},
   "source": [
    "#### Linear Discriminant Analysis"
   ]
  },
  {
   "cell_type": "markdown",
   "metadata": {},
   "source": [
    "###### wine data"
   ]
  },
  {
   "cell_type": "code",
   "execution_count": 85,
   "metadata": {},
   "outputs": [],
   "source": [
    "X_train, X_test, y_train, y_test = train_test_split(wine_X, wine_y, test_size=0.20)"
   ]
  },
  {
   "cell_type": "code",
   "execution_count": 86,
   "metadata": {},
   "outputs": [],
   "source": [
    "from sklearn.discriminant_analysis import LinearDiscriminantAnalysis"
   ]
  },
  {
   "cell_type": "code",
   "execution_count": 87,
   "metadata": {},
   "outputs": [
    {
     "name": "stderr",
     "output_type": "stream",
     "text": [
      "/Users/faizank/Documents/courses/comp551/mini_project1/lib/python3.7/site-packages/sklearn/utils/validation.py:724: DataConversionWarning: A column-vector y was passed when a 1d array was expected. Please change the shape of y to (n_samples, ), for example using ravel().\n",
      "  y = column_or_1d(y, warn=True)\n"
     ]
    },
    {
     "data": {
      "text/plain": [
       "0.7375"
      ]
     },
     "execution_count": 87,
     "metadata": {},
     "output_type": "execute_result"
    }
   ],
   "source": [
    "wine_model= LinearDiscriminantAnalysis()\n",
    "wine_model.fit(X_train, y_train)\n",
    "y_predicted = wine_model.predict(X_test)\n",
    "wine_model.score(X_test, y_test)"
   ]
  },
  {
   "cell_type": "code",
   "execution_count": 88,
   "metadata": {},
   "outputs": [],
   "source": [
    "from models.linear_discriminant_analysis import LearnDiscriminantAnalysis as LDA"
   ]
  },
  {
   "cell_type": "code",
   "execution_count": 90,
   "metadata": {},
   "outputs": [
    {
     "name": "stdout",
     "output_type": "stream",
     "text": [
      "model trained\n"
     ]
    }
   ],
   "source": [
    "custom_wine_model = LDA()\n",
    "custom_wine_model.fit(X_train, y_train)"
   ]
  },
  {
   "cell_type": "code",
   "execution_count": 91,
   "metadata": {},
   "outputs": [
    {
     "data": {
      "text/plain": [
       "0.7375"
      ]
     },
     "execution_count": 91,
     "metadata": {},
     "output_type": "execute_result"
    }
   ],
   "source": [
    "custom_wine_model.score(X_test, y_test)[0]"
   ]
  },
  {
   "cell_type": "markdown",
   "metadata": {},
   "source": [
    "###### cancer data"
   ]
  },
  {
   "cell_type": "code",
   "execution_count": 92,
   "metadata": {},
   "outputs": [],
   "source": [
    "X_train, X_test, y_train, y_test = train_test_split(cancer_X, cancer_y, test_size=0.20)"
   ]
  },
  {
   "cell_type": "code",
   "execution_count": 93,
   "metadata": {},
   "outputs": [
    {
     "name": "stderr",
     "output_type": "stream",
     "text": [
      "/Users/faizank/Documents/courses/comp551/mini_project1/lib/python3.7/site-packages/sklearn/utils/validation.py:724: DataConversionWarning: A column-vector y was passed when a 1d array was expected. Please change the shape of y to (n_samples, ), for example using ravel().\n",
      "  y = column_or_1d(y, warn=True)\n"
     ]
    },
    {
     "data": {
      "text/plain": [
       "0.948905109489051"
      ]
     },
     "execution_count": 93,
     "metadata": {},
     "output_type": "execute_result"
    }
   ],
   "source": [
    "cancer_model = LinearDiscriminantAnalysis()\n",
    "cancer_model.fit(X_train, y_train)\n",
    "y_predicted = cancer_model.predict(X_test)\n",
    "cancer_model.score(X_test, y_test)"
   ]
  },
  {
   "cell_type": "code",
   "execution_count": 94,
   "metadata": {},
   "outputs": [
    {
     "name": "stdout",
     "output_type": "stream",
     "text": [
      "model trained\n"
     ]
    }
   ],
   "source": [
    "custom_cancer_model = LDA()\n",
    "custom_cancer_model.fit(X_train, y_train)\n",
    "custom_y_predicted = custom_cancer_model.predict(X_test)"
   ]
  },
  {
   "cell_type": "code",
   "execution_count": 95,
   "metadata": {},
   "outputs": [
    {
     "data": {
      "text/plain": [
       "0.948905109489051"
      ]
     },
     "execution_count": 95,
     "metadata": {},
     "output_type": "execute_result"
    }
   ],
   "source": [
    "custom_cancer_model.score(X_test, y_test)[0]"
   ]
  },
  {
   "cell_type": "code",
   "execution_count": null,
   "metadata": {},
   "outputs": [],
   "source": []
  },
  {
   "cell_type": "code",
   "execution_count": null,
   "metadata": {},
   "outputs": [],
   "source": []
  },
  {
   "cell_type": "markdown",
   "metadata": {},
   "source": [
    "#### K-fold cross validation"
   ]
  },
  {
   "cell_type": "markdown",
   "metadata": {},
   "source": [
    "#### Standard Logistic Regression"
   ]
  },
  {
   "cell_type": "code",
   "execution_count": 100,
   "metadata": {},
   "outputs": [
    {
     "name": "stdout",
     "output_type": "stream",
     "text": [
      "score: 0.690625\n",
      "time: 0.2380809783935547\n"
     ]
    },
    {
     "data": {
      "text/plain": [
       "0.690625"
      ]
     },
     "execution_count": 100,
     "metadata": {},
     "output_type": "execute_result"
    }
   ],
   "source": [
    "wine_model = LogisticRegression(solver=\"lbfgs\", max_iter=1000)\n",
    "k_fold_validation(wine_X, wine_y.reshape(len(wine_y),), wine_model,5)"
   ]
  },
  {
   "cell_type": "code",
   "execution_count": 99,
   "metadata": {},
   "outputs": [
    {
     "name": "stdout",
     "output_type": "stream",
     "text": [
      "score: 0.9343065693430657\n",
      "time: 0.015357732772827148\n"
     ]
    },
    {
     "data": {
      "text/plain": [
       "0.9343065693430657"
      ]
     },
     "execution_count": 99,
     "metadata": {},
     "output_type": "execute_result"
    }
   ],
   "source": [
    "cancer_model = LogisticRegression(solver=\"lbfgs\", max_iter=1000)\n",
    "k_fold_validation(cancer_X, cancer_y.reshape(len(cancer_y),), cancer_model,5)"
   ]
  },
  {
   "cell_type": "markdown",
   "metadata": {},
   "source": [
    "#### Custom Logistic Regression"
   ]
  },
  {
   "cell_type": "code",
   "execution_count": 115,
   "metadata": {},
   "outputs": [],
   "source": [
    "from models.logistic_regression import LogisticRegression as LR"
   ]
  },
  {
   "cell_type": "code",
   "execution_count": 116,
   "metadata": {},
   "outputs": [
    {
     "name": "stdout",
     "output_type": "stream",
     "text": [
      "starting model training with learning_rate =  0.0001 and num of iterations  100\n",
      "model trained with params [ 0.57880734 -0.36563107  0.22100356  0.0665872  -0.0208899   3.77288194\n",
      " -3.51405442 -0.00778869 -0.03906735  0.30659872  2.3954086 ]\n",
      "starting model training with learning_rate =  0.0001 and num of iterations  100\n",
      "model trained with params [ 0.15022371 -0.36315253  0.16358271  0.02921143 -0.03554997  3.32794655\n",
      " -3.79466667 -0.02747877 -0.07962077  0.21094191  2.14027672]\n",
      "starting model training with learning_rate =  0.0001 and num of iterations  100\n",
      "model trained with params [ 1.62858341 -0.29157234  0.20229674  0.30498843 -0.02622883  4.08146455\n",
      " -1.22853453  0.08550671  0.2762326   0.3289285   3.23846645]\n",
      "starting model training with learning_rate =  0.0001 and num of iterations  100\n",
      "model trained with params [ 0.83179488 -0.30052124  0.19026713  0.37421565 -0.01751782  2.40377939\n",
      " -1.66383709 -0.00952078 -0.03395183  0.25552434  1.97693448]\n",
      "starting model training with learning_rate =  0.0001 and num of iterations  100\n",
      "model trained with params [ 1.4095078  -0.29594343  0.20266687  0.17862135 -0.02367352  4.26509515\n",
      " -1.12907128  0.05618759  0.16569513  0.28044573  2.93258742]\n",
      "score: [0.3875]\n",
      "time: 2.0816211700439453\n"
     ]
    },
    {
     "data": {
      "text/plain": [
       "array([0.3875])"
      ]
     },
     "execution_count": 116,
     "metadata": {},
     "output_type": "execute_result"
    }
   ],
   "source": [
    "learnrate, max_iter = 0.0001, 100\n",
    "wine_custom_model = LR( learnrate, max_iter)\n",
    "k_fold_validation(wine_X, wine_y, wine_custom_model,5)"
   ]
  },
  {
   "cell_type": "code",
   "execution_count": 117,
   "metadata": {},
   "outputs": [
    {
     "name": "stdout",
     "output_type": "stream",
     "text": [
      "starting model training with learning_rate =  0.0001 and num of iterations  100\n",
      "model trained with params [-0.40252287  0.48486982  0.26855285  0.12798566 -0.5851789   0.48253749\n",
      " -0.25857099  0.23760149 -0.27854239]\n",
      "starting model training with learning_rate =  0.0001 and num of iterations  100\n",
      "model trained with params [-0.34497068  0.43298706  0.23561769  0.08404434 -0.47399206  0.3872104\n",
      " -0.24861692  0.29036355 -0.19720276]\n",
      "starting model training with learning_rate =  0.0001 and num of iterations  100\n",
      "model trained with params [-0.34884959  0.47036658  0.29612595  0.09051158 -0.41851098  0.35346466\n",
      " -0.3170787   0.24136968 -0.16019725]\n",
      "starting model training with learning_rate =  0.0001 and num of iterations  100\n",
      "model trained with params [-0.24259122  0.47575784  0.24105813  0.13541297 -0.434275    0.3895818\n",
      " -0.42556181  0.2322706  -0.17016326]\n",
      "starting model training with learning_rate =  0.0001 and num of iterations  100\n",
      "model trained with params [-0.25561857  0.3805795   0.27345383  0.07515094 -0.38832905  0.40463093\n",
      " -0.40523636  0.22543108 -0.13743153]\n",
      "score: [0.7810219]\n",
      "time: 0.9628400802612305\n"
     ]
    },
    {
     "data": {
      "text/plain": [
       "array([0.7810219])"
      ]
     },
     "execution_count": 117,
     "metadata": {},
     "output_type": "execute_result"
    }
   ],
   "source": [
    "cancer_custom_model = LR(learnrate, max_iter)\n",
    "k_fold_validation(cancer_X, cancer_y, cancer_custom_model, 5)"
   ]
  },
  {
   "cell_type": "markdown",
   "metadata": {},
   "source": [
    "#### Standard LDA"
   ]
  },
  {
   "cell_type": "code",
   "execution_count": 118,
   "metadata": {},
   "outputs": [],
   "source": [
    "from sklearn.discriminant_analysis import LinearDiscriminantAnalysis"
   ]
  },
  {
   "cell_type": "code",
   "execution_count": 119,
   "metadata": {},
   "outputs": [
    {
     "name": "stdout",
     "output_type": "stream",
     "text": [
      "score: 0.69375\n",
      "time: 0.008784294128417969\n"
     ]
    },
    {
     "data": {
      "text/plain": [
       "0.69375"
      ]
     },
     "execution_count": 119,
     "metadata": {},
     "output_type": "execute_result"
    }
   ],
   "source": [
    "wine_model = LinearDiscriminantAnalysis()\n",
    "k_fold_validation(wine_X, wine_y.reshape(len(wine_y),), wine_model,5)"
   ]
  },
  {
   "cell_type": "code",
   "execution_count": 120,
   "metadata": {},
   "outputs": [
    {
     "name": "stdout",
     "output_type": "stream",
     "text": [
      "score: 0.8905109489051095\n",
      "time: 0.00430607795715332\n"
     ]
    },
    {
     "data": {
      "text/plain": [
       "0.8905109489051095"
      ]
     },
     "execution_count": 120,
     "metadata": {},
     "output_type": "execute_result"
    }
   ],
   "source": [
    "cancer_model = LinearDiscriminantAnalysis()\n",
    "k_fold_validation(cancer_X, cancer_y.reshape(len(cancer_y),), cancer_model,5)"
   ]
  },
  {
   "cell_type": "markdown",
   "metadata": {},
   "source": [
    "#### Custom LDA"
   ]
  },
  {
   "cell_type": "code",
   "execution_count": 79,
   "metadata": {},
   "outputs": [],
   "source": [
    "from models.linear_discriminant_analysis import LearnDiscriminantAnalysis as LDA"
   ]
  },
  {
   "cell_type": "code",
   "execution_count": 80,
   "metadata": {},
   "outputs": [
    {
     "name": "stdout",
     "output_type": "stream",
     "text": [
      "model trained\n",
      "model trained\n",
      "model trained\n",
      "model trained\n",
      "model trained\n",
      "score: [0.69375]\n",
      "time: 0.06235694885253906\n"
     ]
    },
    {
     "data": {
      "text/plain": [
       "array([0.69375])"
      ]
     },
     "execution_count": 80,
     "metadata": {},
     "output_type": "execute_result"
    }
   ],
   "source": [
    "wine_custom_lda = LDA()\n",
    "k_fold_validation(wine_X, wine_y, wine_custom_lda,5)"
   ]
  },
  {
   "cell_type": "code",
   "execution_count": 81,
   "metadata": {},
   "outputs": [
    {
     "name": "stdout",
     "output_type": "stream",
     "text": [
      "model trained\n",
      "model trained\n",
      "model trained\n",
      "model trained\n",
      "model trained\n",
      "score: [0.89051095]\n",
      "time: 0.03140997886657715\n"
     ]
    },
    {
     "data": {
      "text/plain": [
       "array([0.89051095])"
      ]
     },
     "execution_count": 81,
     "metadata": {},
     "output_type": "execute_result"
    }
   ],
   "source": [
    "cancer_custom_model = LDA()\n",
    "k_fold_validation(cancer_X, cancer_y, cancer_custom_model, 5)"
   ]
  },
  {
   "cell_type": "markdown",
   "metadata": {},
   "source": [
    "## TASK 3"
   ]
  },
  {
   "cell_type": "markdown",
   "metadata": {},
   "source": [
    "### experiment with different learning rates, runtime and accuracy for Logistic regression"
   ]
  },
  {
   "cell_type": "code",
   "execution_count": 122,
   "metadata": {},
   "outputs": [],
   "source": [
    "#do runtime measurements\n",
    "lr = [0.1, 0.01, 0.001, 0.0001, 0.00001]\n",
    "n_iter = 300"
   ]
  },
  {
   "cell_type": "code",
   "execution_count": 123,
   "metadata": {},
   "outputs": [
    {
     "name": "stdout",
     "output_type": "stream",
     "text": [
      "accuracy of learning rate 0.1: \n",
      "starting model training with learning_rate =  0.1 and num of iterations  300\n",
      "model trained with params [  -81.41164614 -1278.87633125   659.17546804  -370.36087741\n",
      "   -81.03362504  3962.97509646 -3503.1344365   -349.73833589\n",
      " -1273.77059922   713.84308198  3101.61930208]\n",
      "starting model training with learning_rate =  0.1 and num of iterations  300\n",
      "model trained with params [ -764.27980944 -1154.84359609   459.99702224  -299.46869531\n",
      "  -119.39094312  4971.31261907 -1254.483898    -263.05015047\n",
      "  -881.86295813   551.72624194  3839.83943801]\n",
      "starting model training with learning_rate =  0.1 and num of iterations  300\n",
      "model trained with params [ 1034.37667684 -1157.00227092   524.18427467  -147.43197824\n",
      "  -117.79998809  4695.89954972 -1242.31039978  -271.48083872\n",
      "  -972.58673939   693.88560451  3662.2212854 ]\n",
      "starting model training with learning_rate =  0.1 and num of iterations  300\n",
      "model trained with params [  607.72055329 -1019.37893418   521.13944363   538.97083147\n",
      "   -70.09071699  3214.29087712  -424.08063382  -270.94410527\n",
      "  -934.26677903   608.9109946   3090.11170456]\n",
      "starting model training with learning_rate =  0.1 and num of iterations  300\n",
      "model trained with params [  956.78431395 -1105.61965501   543.60972859  -482.48434405\n",
      "  -103.08604612  4740.34880695 -1269.62033882  -274.0943443\n",
      " -1026.40818715   587.0352352   3606.10156926]\n",
      "score: [0.509375]\n",
      "time: 5.569518089294434\n",
      "\n",
      "accuracy of learning rate 0.01: \n",
      "starting model training with learning_rate =  0.01 and num of iterations  300\n",
      "model trained with params [  -8.15058214 -127.88617281   65.88083847  -37.02930062   -8.10505249\n",
      "  396.10565868 -350.40512989  -34.99145678 -127.45255832   71.36269738\n",
      "  309.80443977]\n",
      "starting model training with learning_rate =  0.01 and num of iterations  300\n",
      "model trained with params [ -77.36733303 -115.47240459   45.8433004   -30.84271584  -11.98124388\n",
      "  496.62583387 -124.22097362  -26.32329225  -88.05741383   55.27411376\n",
      "  384.22776571]\n",
      "starting model training with learning_rate =  0.01 and num of iterations  300\n",
      "model trained with params [ 103.00700687 -115.82811406   52.43912944  -15.80483409  -11.7882986\n",
      "  468.94525286 -123.2125798   -27.19681363  -97.48956695   69.2193927\n",
      "  366.14689124]\n",
      "starting model training with learning_rate =  0.01 and num of iterations  300\n",
      "model trained with params [  45.62736673 -102.43564009   51.53646201   49.7082831    -7.21139706\n",
      "  291.96124445 -156.02455617  -28.7522326   -98.73632021   59.52609349\n",
      "  293.88655736]\n",
      "starting model training with learning_rate =  0.01 and num of iterations  300\n",
      "model trained with params [  95.03584791 -110.50468418   54.30893106  -48.00153636  -10.3131273\n",
      "  475.09116131 -127.42762525  -27.34104728 -102.38406109   58.68739805\n",
      "  361.67240379]\n",
      "score: [0.50625]\n",
      "time: 5.653078079223633\n",
      "\n",
      "accuracy of learning rate 0.001: \n",
      "starting model training with learning_rate =  0.001 and num of iterations  300\n",
      "model trained with params [ -0.84912636 -12.79176627   6.59315693  -3.7077318   -0.81069342\n",
      "  39.66016961 -35.02690794  -3.50024988 -12.74829984   7.13592982\n",
      "  30.99946764]\n",
      "starting model training with learning_rate =  0.001 and num of iterations  300\n",
      "model trained with params [-11.76527003 -11.7991205    4.45754361  -4.26171363  -1.24079507\n",
      "  41.10178655 -35.72027275  -3.12986095 -10.47314541   5.19231863\n",
      "  33.20570916]\n",
      "starting model training with learning_rate =  0.001 and num of iterations  300\n",
      "model trained with params [ 10.29301279 -11.58876368   5.24798787  -1.55979299  -1.17957609\n",
      "  46.86278987 -12.31483896  -2.71918644  -9.74444545   6.92182141\n",
      "  36.61685955]\n",
      "starting model training with learning_rate =  0.001 and num of iterations  300\n",
      "model trained with params [ -0.24444173 -10.54277848   5.00377568   3.63628098  -0.77041922\n",
      "  19.30683359 -38.29494746  -3.43689255 -11.74310004   5.59512786\n",
      "  23.65470439]\n",
      "starting model training with learning_rate =  0.001 and num of iterations  300\n",
      "model trained with params [  9.50360688 -11.05555686   5.43369216  -4.85393785  -1.03265092\n",
      "  47.31138542 -12.61190967  -2.74980559 -10.29497941   5.86681596\n",
      "  35.97254428]\n",
      "score: [0.315625]\n",
      "time: 5.559804201126099\n",
      "\n",
      "accuracy of learning rate 0.0001: \n",
      "starting model training with learning_rate =  0.0001 and num of iterations  300\n",
      "model trained with params [-0.10388488 -1.27327207  0.6575961  -0.35445202 -0.08098416  3.92504106\n",
      " -3.50546635 -0.34485389 -1.25561992  0.719893    3.17852371]\n",
      "starting model training with learning_rate =  0.0001 and num of iterations  300\n",
      "model trained with params [-1.16744499 -1.18572979  0.44930559 -0.43514196 -0.12399607  4.09250012\n",
      " -3.57404447 -0.31380409 -1.0515398   0.52375624  3.3362521 ]\n",
      "starting model training with learning_rate =  0.0001 and num of iterations  300\n",
      "model trained with params [ 1.05861159 -1.15356621  0.52502335 -0.15516242 -0.11731818  4.68306215\n",
      " -1.24496319 -0.26956046 -0.96786862  0.69363261  3.6810689 ]\n",
      "starting model training with learning_rate =  0.0001 and num of iterations  300\n",
      "model trained with params [ 0.09429849 -1.04832946  0.50535563  0.39665972 -0.07478355  2.25939189\n",
      " -2.23805722 -0.33028142 -1.13097737  0.56809142  2.48330728]\n",
      "starting model training with learning_rate =  0.0001 and num of iterations  300\n",
      "model trained with params [ 0.93931627 -1.10392885  0.54178935 -0.4935054  -0.10314055  4.73675096\n",
      " -1.26702495 -0.27393223 -1.02440999  0.58591559  3.59869497]\n",
      "score: [0.39375]\n",
      "time: 5.3406689167022705\n",
      "\n",
      "accuracy of learning rate 1e-05: \n",
      "starting model training with learning_rate =  1e-05 and num of iterations  300\n",
      "model trained with params [-0.06120946 -0.12175199  0.06066942 -0.02331109 -0.00849767  0.35545311\n",
      " -0.33483025 -0.03309162 -0.11761034  0.06867413  0.36130526]\n",
      "starting model training with learning_rate =  1e-05 and num of iterations  300\n",
      "model trained with params [-0.07580483 -0.1185541   0.04861242 -0.02820313 -0.01174192  0.45816118\n",
      " -0.11645502 -0.02788377 -0.09417594  0.0518959   0.38651938]\n",
      "starting model training with learning_rate =  1e-05 and num of iterations  300\n",
      "model trained with params [ 0.07680526 -0.11097183  0.04924152 -0.0151871  -0.01141958  0.42474459\n",
      " -0.11674784 -0.02490487 -0.08808639  0.06445624  0.40176418]\n",
      "starting model training with learning_rate =  1e-05 and num of iterations  300\n",
      "model trained with params [ 0.04108244 -0.1022176   0.05116142  0.04511372 -0.00720279  0.23089832\n",
      " -0.08793517 -0.02919785 -0.10068117  0.05849813  0.281363  ]\n",
      "starting model training with learning_rate =  1e-05 and num of iterations  300\n",
      "model trained with params [ 0.05618715 -0.10958154  0.05154128 -0.03087096 -0.01031357  0.4459801\n",
      " -0.12091096 -0.02644384 -0.09664649  0.05503214  0.386512  ]\n",
      "score: [0.50625]\n",
      "time: 5.408238887786865\n",
      "\n"
     ]
    }
   ],
   "source": [
    "for learn in lr:\n",
    "    print(\"accuracy of learning rate \" + str(learn) + \": \")\n",
    "    wine_custom_model = LR(learn, n_iter)\n",
    "    k_fold_validation(wine_X, wine_y, wine_custom_model,5)\n",
    "    print(\"\")\n"
   ]
  },
  {
   "cell_type": "code",
   "execution_count": 124,
   "metadata": {},
   "outputs": [
    {
     "name": "stdout",
     "output_type": "stream",
     "text": [
      "accuracy of learning rate 0.1: \n",
      "starting model training with learning_rate =  0.0001 and num of iterations  100\n",
      "model trained with params [-0.40252287  0.48486982  0.26855285  0.12798566 -0.5851789   0.48253749\n",
      " -0.25857099  0.23760149 -0.27854239]\n",
      "starting model training with learning_rate =  0.0001 and num of iterations  100\n",
      "model trained with params [-0.34497068  0.43298706  0.23561769  0.08404434 -0.47399206  0.3872104\n",
      " -0.24861692  0.29036355 -0.19720276]\n",
      "starting model training with learning_rate =  0.0001 and num of iterations  100\n",
      "model trained with params [-0.34884959  0.47036658  0.29612595  0.09051158 -0.41851098  0.35346466\n",
      " -0.3170787   0.24136968 -0.16019725]\n",
      "starting model training with learning_rate =  0.0001 and num of iterations  100\n",
      "model trained with params [-0.24259122  0.47575784  0.24105813  0.13541297 -0.434275    0.3895818\n",
      " -0.42556181  0.2322706  -0.17016326]\n",
      "starting model training with learning_rate =  0.0001 and num of iterations  100\n",
      "model trained with params [-0.25561857  0.3805795   0.27345383  0.07515094 -0.38832905  0.40463093\n",
      " -0.40523636  0.22543108 -0.13743153]\n",
      "score: [0.7810219]\n",
      "time: 1.006221055984497\n",
      "\n",
      "accuracy of learning rate 0.01: \n",
      "starting model training with learning_rate =  0.0001 and num of iterations  100\n",
      "model trained with params [-0.40252287  0.48486982  0.26855285  0.12798566 -0.5851789   0.48253749\n",
      " -0.25857099  0.23760149 -0.27854239]\n",
      "starting model training with learning_rate =  0.0001 and num of iterations  100\n",
      "model trained with params [-0.34497068  0.43298706  0.23561769  0.08404434 -0.47399206  0.3872104\n",
      " -0.24861692  0.29036355 -0.19720276]\n",
      "starting model training with learning_rate =  0.0001 and num of iterations  100\n",
      "model trained with params [-0.34884959  0.47036658  0.29612595  0.09051158 -0.41851098  0.35346466\n",
      " -0.3170787   0.24136968 -0.16019725]\n",
      "starting model training with learning_rate =  0.0001 and num of iterations  100\n",
      "model trained with params [-0.24259122  0.47575784  0.24105813  0.13541297 -0.434275    0.3895818\n",
      " -0.42556181  0.2322706  -0.17016326]\n",
      "starting model training with learning_rate =  0.0001 and num of iterations  100\n",
      "model trained with params [-0.25561857  0.3805795   0.27345383  0.07515094 -0.38832905  0.40463093\n",
      " -0.40523636  0.22543108 -0.13743153]\n",
      "score: [0.7810219]\n",
      "time: 0.8594639301300049\n",
      "\n",
      "accuracy of learning rate 0.001: \n",
      "starting model training with learning_rate =  0.0001 and num of iterations  100\n",
      "model trained with params [-0.40252287  0.48486982  0.26855285  0.12798566 -0.5851789   0.48253749\n",
      " -0.25857099  0.23760149 -0.27854239]\n",
      "starting model training with learning_rate =  0.0001 and num of iterations  100\n",
      "model trained with params [-0.34497068  0.43298706  0.23561769  0.08404434 -0.47399206  0.3872104\n",
      " -0.24861692  0.29036355 -0.19720276]\n",
      "starting model training with learning_rate =  0.0001 and num of iterations  100\n",
      "model trained with params [-0.34884959  0.47036658  0.29612595  0.09051158 -0.41851098  0.35346466\n",
      " -0.3170787   0.24136968 -0.16019725]\n",
      "starting model training with learning_rate =  0.0001 and num of iterations  100\n",
      "model trained with params [-0.24259122  0.47575784  0.24105813  0.13541297 -0.434275    0.3895818\n",
      " -0.42556181  0.2322706  -0.17016326]\n",
      "starting model training with learning_rate =  0.0001 and num of iterations  100\n",
      "model trained with params [-0.25561857  0.3805795   0.27345383  0.07515094 -0.38832905  0.40463093\n",
      " -0.40523636  0.22543108 -0.13743153]\n",
      "score: [0.7810219]\n",
      "time: 0.8937671184539795\n",
      "\n",
      "accuracy of learning rate 0.0001: \n",
      "starting model training with learning_rate =  0.0001 and num of iterations  100\n",
      "model trained with params [-0.40252287  0.48486982  0.26855285  0.12798566 -0.5851789   0.48253749\n",
      " -0.25857099  0.23760149 -0.27854239]\n",
      "starting model training with learning_rate =  0.0001 and num of iterations  100\n",
      "model trained with params [-0.34497068  0.43298706  0.23561769  0.08404434 -0.47399206  0.3872104\n",
      " -0.24861692  0.29036355 -0.19720276]\n",
      "starting model training with learning_rate =  0.0001 and num of iterations  100\n",
      "model trained with params [-0.34884959  0.47036658  0.29612595  0.09051158 -0.41851098  0.35346466\n",
      " -0.3170787   0.24136968 -0.16019725]\n",
      "starting model training with learning_rate =  0.0001 and num of iterations  100\n",
      "model trained with params [-0.24259122  0.47575784  0.24105813  0.13541297 -0.434275    0.3895818\n",
      " -0.42556181  0.2322706  -0.17016326]\n",
      "starting model training with learning_rate =  0.0001 and num of iterations  100\n",
      "model trained with params [-0.25561857  0.3805795   0.27345383  0.07515094 -0.38832905  0.40463093\n",
      " -0.40523636  0.22543108 -0.13743153]\n",
      "score: [0.7810219]\n",
      "time: 1.007343053817749\n",
      "\n",
      "accuracy of learning rate 1e-05: \n",
      "starting model training with learning_rate =  0.0001 and num of iterations  100\n",
      "model trained with params [-0.40252287  0.48486982  0.26855285  0.12798566 -0.5851789   0.48253749\n",
      " -0.25857099  0.23760149 -0.27854239]\n",
      "starting model training with learning_rate =  0.0001 and num of iterations  100\n",
      "model trained with params [-0.34497068  0.43298706  0.23561769  0.08404434 -0.47399206  0.3872104\n",
      " -0.24861692  0.29036355 -0.19720276]\n",
      "starting model training with learning_rate =  0.0001 and num of iterations  100\n",
      "model trained with params [-0.34884959  0.47036658  0.29612595  0.09051158 -0.41851098  0.35346466\n",
      " -0.3170787   0.24136968 -0.16019725]\n",
      "starting model training with learning_rate =  0.0001 and num of iterations  100\n",
      "model trained with params [-0.24259122  0.47575784  0.24105813  0.13541297 -0.434275    0.3895818\n",
      " -0.42556181  0.2322706  -0.17016326]\n",
      "starting model training with learning_rate =  0.0001 and num of iterations  100\n",
      "model trained with params [-0.25561857  0.3805795   0.27345383  0.07515094 -0.38832905  0.40463093\n",
      " -0.40523636  0.22543108 -0.13743153]\n",
      "score: [0.7810219]\n",
      "time: 0.923555850982666\n",
      "\n"
     ]
    }
   ],
   "source": [
    "for learn in lr:\n",
    "    print(\"accuracy of learning rate \" + str(learn) + \": \")\n",
    "    cancer_custom_model = LR(learnrate, max_iter)\n",
    "    k_fold_validation(cancer_X, cancer_y, cancer_custom_model, 5)\n",
    "    print(\"\")"
   ]
  },
  {
   "cell_type": "code",
   "execution_count": null,
   "metadata": {},
   "outputs": [],
   "source": []
  },
  {
   "cell_type": "markdown",
   "metadata": {},
   "source": [
    "### runtime and accuracy for Logistic Regression vs LDA, done in k-fold validation section"
   ]
  },
  {
   "cell_type": "code",
   "execution_count": null,
   "metadata": {},
   "outputs": [],
   "source": []
  }
 ],
 "metadata": {
  "kernelspec": {
   "display_name": "Python 3",
   "language": "python",
   "name": "python3"
  },
  "language_info": {
   "codemirror_mode": {
    "name": "ipython",
    "version": 3
   },
   "file_extension": ".py",
   "mimetype": "text/x-python",
   "name": "python",
   "nbconvert_exporter": "python",
   "pygments_lexer": "ipython3",
   "version": "3.7.3"
  }
 },
 "nbformat": 4,
 "nbformat_minor": 2
}
