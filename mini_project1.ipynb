{
 "cells": [
  {
   "cell_type": "markdown",
   "metadata": {},
   "source": [
    "## TASK1"
   ]
  },
  {
   "cell_type": "code",
   "execution_count": 252,
   "metadata": {},
   "outputs": [
    {
     "name": "stdout",
     "output_type": "stream",
     "text": [
      "The autoreload extension is already loaded. To reload it, use:\n",
      "  %reload_ext autoreload\n"
     ]
    }
   ],
   "source": [
    "%load_ext autoreload\n",
    "%autoreload 2\n",
    "import numpy as np\n",
    "import pandas as pd\n",
    "from matplotlib import pyplot as pt\n",
    "from sklearn.model_selection import train_test_split\n",
    "from models.five_fold_validation import k_fold_validation"
   ]
  },
  {
   "cell_type": "code",
   "execution_count": 310,
   "metadata": {},
   "outputs": [
    {
     "data": {
      "text/html": [
       "<div>\n",
       "<style scoped>\n",
       "    .dataframe tbody tr th:only-of-type {\n",
       "        vertical-align: middle;\n",
       "    }\n",
       "\n",
       "    .dataframe tbody tr th {\n",
       "        vertical-align: top;\n",
       "    }\n",
       "\n",
       "    .dataframe thead th {\n",
       "        text-align: right;\n",
       "    }\n",
       "</style>\n",
       "<table border=\"1\" class=\"dataframe\">\n",
       "  <thead>\n",
       "    <tr style=\"text-align: right;\">\n",
       "      <th></th>\n",
       "      <th>id</th>\n",
       "      <th>thickness</th>\n",
       "      <th>cell_size</th>\n",
       "      <th>cell_shape</th>\n",
       "      <th>adhesion</th>\n",
       "      <th>e_cell_size</th>\n",
       "      <th>bare_nuclei</th>\n",
       "      <th>chromatin</th>\n",
       "      <th>nucleoli</th>\n",
       "      <th>mitosis</th>\n",
       "      <th>class</th>\n",
       "    </tr>\n",
       "  </thead>\n",
       "  <tbody>\n",
       "    <tr>\n",
       "      <td>0</td>\n",
       "      <td>1000025</td>\n",
       "      <td>5</td>\n",
       "      <td>1</td>\n",
       "      <td>1</td>\n",
       "      <td>1</td>\n",
       "      <td>2</td>\n",
       "      <td>1</td>\n",
       "      <td>3</td>\n",
       "      <td>1</td>\n",
       "      <td>1</td>\n",
       "      <td>2</td>\n",
       "    </tr>\n",
       "    <tr>\n",
       "      <td>1</td>\n",
       "      <td>1002945</td>\n",
       "      <td>5</td>\n",
       "      <td>4</td>\n",
       "      <td>4</td>\n",
       "      <td>5</td>\n",
       "      <td>7</td>\n",
       "      <td>10</td>\n",
       "      <td>3</td>\n",
       "      <td>2</td>\n",
       "      <td>1</td>\n",
       "      <td>2</td>\n",
       "    </tr>\n",
       "    <tr>\n",
       "      <td>2</td>\n",
       "      <td>1015425</td>\n",
       "      <td>3</td>\n",
       "      <td>1</td>\n",
       "      <td>1</td>\n",
       "      <td>1</td>\n",
       "      <td>2</td>\n",
       "      <td>2</td>\n",
       "      <td>3</td>\n",
       "      <td>1</td>\n",
       "      <td>1</td>\n",
       "      <td>2</td>\n",
       "    </tr>\n",
       "    <tr>\n",
       "      <td>3</td>\n",
       "      <td>1016277</td>\n",
       "      <td>6</td>\n",
       "      <td>8</td>\n",
       "      <td>8</td>\n",
       "      <td>1</td>\n",
       "      <td>3</td>\n",
       "      <td>4</td>\n",
       "      <td>3</td>\n",
       "      <td>7</td>\n",
       "      <td>1</td>\n",
       "      <td>2</td>\n",
       "    </tr>\n",
       "    <tr>\n",
       "      <td>4</td>\n",
       "      <td>1017023</td>\n",
       "      <td>4</td>\n",
       "      <td>1</td>\n",
       "      <td>1</td>\n",
       "      <td>3</td>\n",
       "      <td>2</td>\n",
       "      <td>1</td>\n",
       "      <td>3</td>\n",
       "      <td>1</td>\n",
       "      <td>1</td>\n",
       "      <td>2</td>\n",
       "    </tr>\n",
       "  </tbody>\n",
       "</table>\n",
       "</div>"
      ],
      "text/plain": [
       "        id  thickness  cell_size  cell_shape  adhesion  e_cell_size  \\\n",
       "0  1000025          5          1           1         1            2   \n",
       "1  1002945          5          4           4         5            7   \n",
       "2  1015425          3          1           1         1            2   \n",
       "3  1016277          6          8           8         1            3   \n",
       "4  1017023          4          1           1         3            2   \n",
       "\n",
       "  bare_nuclei  chromatin  nucleoli  mitosis  class  \n",
       "0           1          3         1        1      2  \n",
       "1          10          3         2        1      2  \n",
       "2           2          3         1        1      2  \n",
       "3           4          3         7        1      2  \n",
       "4           1          3         1        1      2  "
      ]
     },
     "execution_count": 310,
     "metadata": {},
     "output_type": "execute_result"
    }
   ],
   "source": [
    "wine = pd.read_csv(\"data/winequality/winequality-red.csv\", sep=\";\")\n",
    "cancer = pd.read_csv(\"data/breastcancer/breast-cancer-wisconsin.data\", delimiter=\",\")\n",
    "wine.head()\n",
    "cancer.head()"
   ]
  },
  {
   "cell_type": "markdown",
   "metadata": {},
   "source": [
    "### 1.2 (a) for completions sake, reading it into numpy array. "
   ]
  },
  {
   "cell_type": "code",
   "execution_count": 30,
   "metadata": {},
   "outputs": [
    {
     "data": {
      "text/plain": [
       "array([[   nan,    nan,    nan, ...,    nan,    nan,    nan],\n",
       "       [ 7.4  ,  0.7  ,  0.   , ...,  0.56 ,  9.4  ,  5.   ],\n",
       "       [ 7.8  ,  0.88 ,  0.   , ...,  0.68 ,  9.8  ,  5.   ],\n",
       "       ...,\n",
       "       [ 6.3  ,  0.51 ,  0.13 , ...,  0.75 , 11.   ,  6.   ],\n",
       "       [ 5.9  ,  0.645,  0.12 , ...,  0.71 , 10.2  ,  5.   ],\n",
       "       [ 6.   ,  0.31 ,  0.47 , ...,  0.66 , 11.   ,  6.   ]])"
      ]
     },
     "execution_count": 30,
     "metadata": {},
     "output_type": "execute_result"
    }
   ],
   "source": [
    "wine_np = np.genfromtxt(\"data/winequality/winequality-red.csv\", delimiter=\";\") \n",
    "wine_np"
   ]
  },
  {
   "cell_type": "code",
   "execution_count": 31,
   "metadata": {},
   "outputs": [
    {
     "data": {
      "text/plain": [
       "array([[   nan,    nan,    nan, ...,    nan,    nan,    nan],\n",
       "       [ 7.4  ,  0.7  ,  0.   , ...,  0.56 ,  9.4  ,  5.   ],\n",
       "       [ 7.8  ,  0.88 ,  0.   , ...,  0.68 ,  9.8  ,  5.   ],\n",
       "       ...,\n",
       "       [ 6.3  ,  0.51 ,  0.13 , ...,  0.75 , 11.   ,  6.   ],\n",
       "       [ 5.9  ,  0.645,  0.12 , ...,  0.71 , 10.2  ,  5.   ],\n",
       "       [ 6.   ,  0.31 ,  0.47 , ...,  0.66 , 11.   ,  6.   ]])"
      ]
     },
     "execution_count": 31,
     "metadata": {},
     "output_type": "execute_result"
    }
   ],
   "source": [
    "# for completions sake, reading it into numpy array.\n",
    "cancer_np = np.genfromtxt(\"data/winequality/winequality-red.csv\", delimiter=\";\") \n",
    "cancer_np"
   ]
  },
  {
   "cell_type": "markdown",
   "metadata": {},
   "source": [
    "### 1.2 (b) convert wine data and cancer data to binary"
   ]
  },
  {
   "cell_type": "code",
   "execution_count": 208,
   "metadata": {},
   "outputs": [
    {
     "data": {
      "text/plain": [
       "True"
      ]
     },
     "execution_count": 208,
     "metadata": {},
     "output_type": "execute_result"
    }
   ],
   "source": [
    "total_row_count = wine.shape[0]\n",
    "wine['classified'] = [1 if x>=6 else 0 for x in wine[\"quality\"] ]\n",
    "\n",
    "## test conversion, total should equal 0s and 1s\n",
    "total_row_count == wine[wine.classified==1].shape[0] + wine[wine.classified==0].shape[0]"
   ]
  },
  {
   "cell_type": "code",
   "execution_count": 33,
   "metadata": {},
   "outputs": [],
   "source": [
    "## malignant is 1,  benign is 0\n",
    "cancer['classified'] = [1 if x == 4 else 0 for x in cancer[\"class\"]]"
   ]
  },
  {
   "cell_type": "markdown",
   "metadata": {},
   "source": [
    "### 1.3 missing or malinformed features"
   ]
  },
  {
   "cell_type": "code",
   "execution_count": 34,
   "metadata": {
    "scrolled": true
   },
   "outputs": [
    {
     "data": {
      "text/plain": [
       "False"
      ]
     },
     "execution_count": 34,
     "metadata": {},
     "output_type": "execute_result"
    }
   ],
   "source": [
    "# check for anything thats not an int or a float\n",
    "wine_columns_invalid = wine.applymap(lambda x: not isinstance(x, (int, float))).any()\n",
    "wine_columns_invalid.any()"
   ]
  },
  {
   "cell_type": "code",
   "execution_count": 35,
   "metadata": {},
   "outputs": [
    {
     "data": {
      "text/plain": [
       "True"
      ]
     },
     "execution_count": 35,
     "metadata": {},
     "output_type": "execute_result"
    }
   ],
   "source": [
    "cancer_columns_invalid = cancer.applymap(lambda x: not isinstance(x, (int, float))).any()\n",
    "cancer_columns_invalid.any()"
   ]
  },
  {
   "cell_type": "code",
   "execution_count": 36,
   "metadata": {},
   "outputs": [
    {
     "data": {
      "text/plain": [
       "id             False\n",
       "thickness      False\n",
       "cell_size      False\n",
       "cell_shape     False\n",
       "adhesion       False\n",
       "e_cell_size    False\n",
       "bare_nuclei     True\n",
       "chromatin      False\n",
       "nucleoli       False\n",
       "mitosis        False\n",
       "class          False\n",
       "classified     False\n",
       "dtype: bool"
      ]
     },
     "execution_count": 36,
     "metadata": {},
     "output_type": "execute_result"
    }
   ],
   "source": [
    "## check for the faulty column\n",
    "cancer_columns_invalid"
   ]
  },
  {
   "cell_type": "code",
   "execution_count": 37,
   "metadata": {},
   "outputs": [
    {
     "data": {
      "text/plain": [
       "0      <class 'str'>\n",
       "1      <class 'str'>\n",
       "2      <class 'str'>\n",
       "3      <class 'str'>\n",
       "4      <class 'str'>\n",
       "           ...      \n",
       "694    <class 'str'>\n",
       "695    <class 'str'>\n",
       "696    <class 'str'>\n",
       "697    <class 'str'>\n",
       "698    <class 'str'>\n",
       "Name: bare_nuclei, Length: 699, dtype: object"
      ]
     },
     "execution_count": 37,
     "metadata": {},
     "output_type": "execute_result"
    }
   ],
   "source": [
    "cancer.bare_nuclei.apply(lambda x: type(x))"
   ]
  },
  {
   "cell_type": "code",
   "execution_count": 311,
   "metadata": {},
   "outputs": [
    {
     "data": {
      "text/plain": [
       "0      <class 'int'>\n",
       "1      <class 'int'>\n",
       "2      <class 'int'>\n",
       "3      <class 'int'>\n",
       "4      <class 'int'>\n",
       "           ...      \n",
       "694    <class 'int'>\n",
       "695    <class 'int'>\n",
       "696    <class 'int'>\n",
       "697    <class 'int'>\n",
       "698    <class 'int'>\n",
       "Name: mitosis, Length: 699, dtype: object"
      ]
     },
     "execution_count": 311,
     "metadata": {},
     "output_type": "execute_result"
    }
   ],
   "source": [
    "cancer.mitosis.apply(lambda x: type(x))"
   ]
  },
  {
   "cell_type": "code",
   "execution_count": 38,
   "metadata": {},
   "outputs": [
    {
     "data": {
      "text/plain": [
       "16"
      ]
     },
     "execution_count": 38,
     "metadata": {},
     "output_type": "execute_result"
    }
   ],
   "source": [
    "cancer[cancer.bare_nuclei == \"?\"].shape[0]"
   ]
  },
  {
   "cell_type": "code",
   "execution_count": 39,
   "metadata": {},
   "outputs": [],
   "source": [
    "# remove entries where cancer.bare_nuclie == ? and convert the column to int\n",
    "cancer = cancer[cancer.bare_nuclei != \"?\"]\n",
    "cancer.bare_nuclei = pd.to_numeric(cancer.bare_nuclei)"
   ]
  },
  {
   "cell_type": "code",
   "execution_count": 40,
   "metadata": {},
   "outputs": [
    {
     "data": {
      "text/plain": [
       "False"
      ]
     },
     "execution_count": 40,
     "metadata": {},
     "output_type": "execute_result"
    }
   ],
   "source": [
    "## run the checks again, should be false\n",
    "cancer_columns_invalid = cancer.applymap(lambda x: not isinstance(x, (int, float))).any()\n",
    "cancer_columns_invalid.any()"
   ]
  },
  {
   "cell_type": "markdown",
   "metadata": {},
   "source": [
    "### 1.4 Compute statistics for the data"
   ]
  },
  {
   "cell_type": "code",
   "execution_count": 41,
   "metadata": {},
   "outputs": [],
   "source": [
    "wine_X = np.array(wine[['fixed acidity', 'volatile acidity', 'citric acid', 'residual sugar',\n",
    "       'chlorides', 'free sulfur dioxide', 'total sulfur dioxide', 'density',\n",
    "       'pH', 'sulphates', 'alcohol']])\n",
    "wine_y = np.array(wine[['classified']])"
   ]
  },
  {
   "cell_type": "code",
   "execution_count": 42,
   "metadata": {},
   "outputs": [],
   "source": [
    "cancer_X = np.array(cancer[['thickness', 'cell_size', 'cell_shape', 'adhesion', 'e_cell_size',\n",
    "       'bare_nuclei', 'chromatin', 'nucleoli', 'mitosis']])\n",
    "cancer_y = np.array(cancer[[\"classified\"]])"
   ]
  },
  {
   "cell_type": "markdown",
   "metadata": {},
   "source": [
    "##### wine data"
   ]
  },
  {
   "cell_type": "code",
   "execution_count": 43,
   "metadata": {},
   "outputs": [
    {
     "data": {
      "image/png": "[encoded data removed]",
      "text/plain": [
       "<Figure size 432x288 with 1 Axes>"
      ]
     },
     "metadata": {
      "needs_background": "light"
     },
     "output_type": "display_data"
    }
   ],
   "source": [
    "pt.hist(wine.classified)\n",
    "pt.ylabel(\"count of values\")\n",
    "pt.xlabel(\"values\")\n",
    "pt.title('histogram of wine results')\n",
    "pt.show()\n"
   ]
  },
  {
   "cell_type": "code",
   "execution_count": 44,
   "metadata": {},
   "outputs": [
    {
     "data": {
      "image/png": "[encoded data removed]",
      "text/plain": [
       "<Figure size 720x720 with 4 Axes>"
      ]
     },
     "metadata": {
      "needs_background": "light"
     },
     "output_type": "display_data"
    }
   ],
   "source": [
    "fig, axs = pt.subplots(2, 2, figsize=(10,10))\n",
    "axs[0, 0].hist(wine['fixed acidity'])\n",
    "axs[0, 0].set_title('fixed acidity')\n",
    "axs[0, 1].hist(wine['volatile acidity'])\n",
    "axs[0, 1].set_title('volatile acidity')\n",
    "axs[1, 0].hist(wine['citric acid'])\n",
    "axs[1, 0].set_title('citric acid')\n",
    "axs[1, 1].hist(wine['residual sugar'])\n",
    "axs[1, 1].set_title('residual sugar')\n",
    "fig.tight_layout()\n",
    "pt.show()"
   ]
  },
  {
   "cell_type": "markdown",
   "metadata": {},
   "source": [
    "#### cancer data"
   ]
  },
  {
   "cell_type": "code",
   "execution_count": 45,
   "metadata": {},
   "outputs": [
    {
     "data": {
      "image/png": "[encoded data removed]",
      "text/plain": [
       "<Figure size 432x288 with 1 Axes>"
      ]
     },
     "metadata": {
      "needs_background": "light"
     },
     "output_type": "display_data"
    }
   ],
   "source": [
    "bins = np.arange(3)-0.5\n",
    "pt.hist(cancer.classified, width=0.25, align='mid')\n",
    "pt.ylabel(\"count of values\")\n",
    "pt.xlabel(\"values\")\n",
    "pt.title('histogram of cancer results')\n",
    "pt.xticks(range(3))\n",
    "pt.xlim([-1, 2])\n",
    "pt.show()"
   ]
  },
  {
   "cell_type": "code",
   "execution_count": 46,
   "metadata": {},
   "outputs": [
    {
     "data": {
      "image/png": "[encoded data removed]",
      "text/plain": [
       "<Figure size 720x720 with 4 Axes>"
      ]
     },
     "metadata": {
      "needs_background": "light"
     },
     "output_type": "display_data"
    }
   ],
   "source": [
    "fig, axs = pt.subplots(2, 2, figsize=(10,10))\n",
    "axs[0, 0].hist(cancer['thickness'])\n",
    "axs[0, 0].set_title('thickness')\n",
    "axs[0, 1].hist(cancer['cell_size'])\n",
    "axs[0, 1].set_title('cell_size')\n",
    "axs[1, 0].hist(cancer['cell_shape'])\n",
    "axs[1, 0].set_title('cell_shape')\n",
    "axs[1, 1].hist(cancer['bare_nuclei'])\n",
    "axs[1, 1].set_title('bare_nuclei')\n",
    "fig.tight_layout()\n",
    "pt.show()"
   ]
  },
  {
   "cell_type": "markdown",
   "metadata": {},
   "source": [
    "## TASK 2"
   ]
  },
  {
   "cell_type": "code",
   "execution_count": 47,
   "metadata": {},
   "outputs": [],
   "source": [
    "wine_X = np.array(wine[['fixed acidity', 'volatile acidity', 'citric acid', 'residual sugar',\n",
    "       'chlorides', 'free sulfur dioxide', 'total sulfur dioxide', 'density',\n",
    "       'pH', 'sulphates', 'alcohol']])\n",
    "wine_y = np.array(wine[['classified']])"
   ]
  },
  {
   "cell_type": "code",
   "execution_count": 48,
   "metadata": {},
   "outputs": [],
   "source": [
    "cancer_X = np.array(cancer[['thickness', 'cell_size', 'cell_shape', 'adhesion', 'e_cell_size',\n",
    "       'bare_nuclei', 'chromatin', 'nucleoli', 'mitosis']])\n",
    "cancer_y = np.array(cancer[[\"classified\"]])"
   ]
  },
  {
   "cell_type": "code",
   "execution_count": 49,
   "metadata": {},
   "outputs": [],
   "source": [
    "from sklearn.model_selection import train_test_split"
   ]
  },
  {
   "cell_type": "markdown",
   "metadata": {},
   "source": [
    "#### Logistic Regression"
   ]
  },
  {
   "cell_type": "markdown",
   "metadata": {},
   "source": [
    "###### wine data"
   ]
  },
  {
   "cell_type": "code",
   "execution_count": 50,
   "metadata": {},
   "outputs": [],
   "source": [
    "X_train, X_test, y_train, y_test = train_test_split(wine_X, wine_y, test_size=0.20)"
   ]
  },
  {
   "cell_type": "code",
   "execution_count": 51,
   "metadata": {},
   "outputs": [],
   "source": [
    "from sklearn.linear_model import LogisticRegression"
   ]
  },
  {
   "cell_type": "code",
   "execution_count": 52,
   "metadata": {},
   "outputs": [
    {
     "name": "stderr",
     "output_type": "stream",
     "text": [
      "/Users/faizank/Documents/courses/comp551/mini_project1/lib/python3.7/site-packages/sklearn/utils/validation.py:724: DataConversionWarning: A column-vector y was passed when a 1d array was expected. Please change the shape of y to (n_samples, ), for example using ravel().\n",
      "  y = column_or_1d(y, warn=True)\n"
     ]
    },
    {
     "data": {
      "text/plain": [
       "0.75625"
      ]
     },
     "execution_count": 52,
     "metadata": {},
     "output_type": "execute_result"
    }
   ],
   "source": [
    "wine_model=LogisticRegression(solver=\"lbfgs\", max_iter=1000)\n",
    "wine_model.fit(X_train, y_train)\n",
    "y_predicted = wine_model.predict(X_test)\n",
    "wine_model.score(X_test, y_test)"
   ]
  },
  {
   "cell_type": "code",
   "execution_count": 292,
   "metadata": {},
   "outputs": [],
   "source": [
    "from models.logistic_regression import LogisticRegression as CustomLogisticRegression"
   ]
  },
  {
   "cell_type": "code",
   "execution_count": 293,
   "metadata": {},
   "outputs": [
    {
     "name": "stdout",
     "output_type": "stream",
     "text": [
      "starting model training with learning_rate =  1e-05 and num of iterations  100 reg factor 0 reg type 0\n"
     ]
    }
   ],
   "source": [
    "custom_wine_model = CustomLogisticRegression(0.00001, 100)\n",
    "custom_wine_model.fit(X_train, y_train)\n",
    "custom_y_predicted = custom_wine_model.predict(X_test)"
   ]
  },
  {
   "cell_type": "code",
   "execution_count": 294,
   "metadata": {},
   "outputs": [
    {
     "data": {
      "text/plain": [
       "0.521875"
      ]
     },
     "execution_count": 294,
     "metadata": {},
     "output_type": "execute_result"
    }
   ],
   "source": [
    "custom_wine_model.score(X_test, y_test)"
   ]
  },
  {
   "cell_type": "markdown",
   "metadata": {},
   "source": [
    "###### cancer data"
   ]
  },
  {
   "cell_type": "code",
   "execution_count": 56,
   "metadata": {},
   "outputs": [],
   "source": [
    "X_train, X_test, y_train, y_test = train_test_split(cancer_X, cancer_y, test_size=0.20)"
   ]
  },
  {
   "cell_type": "code",
   "execution_count": 57,
   "metadata": {},
   "outputs": [
    {
     "name": "stderr",
     "output_type": "stream",
     "text": [
      "/Users/faizank/Documents/courses/comp551/mini_project1/lib/python3.7/site-packages/sklearn/utils/validation.py:724: DataConversionWarning: A column-vector y was passed when a 1d array was expected. Please change the shape of y to (n_samples, ), for example using ravel().\n",
      "  y = column_or_1d(y, warn=True)\n"
     ]
    },
    {
     "data": {
      "text/plain": [
       "0.948905109489051"
      ]
     },
     "execution_count": 57,
     "metadata": {},
     "output_type": "execute_result"
    }
   ],
   "source": [
    "cancer_model = LogisticRegression(solver=\"lbfgs\", max_iter=1000)\n",
    "cancer_model.fit(X_train, y_train)\n",
    "y_predicted = cancer_model.predict(X_test)\n",
    "cancer_model.score(X_test, y_test)"
   ]
  },
  {
   "cell_type": "code",
   "execution_count": 296,
   "metadata": {},
   "outputs": [
    {
     "name": "stdout",
     "output_type": "stream",
     "text": [
      "starting model training with learning_rate =  0.001 and num of iterations  100 reg factor 0 reg type 0\n"
     ]
    }
   ],
   "source": [
    "custom_cancer_model = CustomLogisticRegression(0.001, 100)\n",
    "custom_cancer_model.fit(X_train, y_train)\n",
    "custom_y_predicted = custom_cancer_model.predict(X_test)"
   ]
  },
  {
   "cell_type": "code",
   "execution_count": 297,
   "metadata": {},
   "outputs": [
    {
     "data": {
      "text/plain": [
       "0.521875"
      ]
     },
     "execution_count": 297,
     "metadata": {},
     "output_type": "execute_result"
    }
   ],
   "source": [
    "custom_cancer_model.score(X_test, y_test)"
   ]
  },
  {
   "cell_type": "code",
   "execution_count": null,
   "metadata": {},
   "outputs": [],
   "source": []
  },
  {
   "cell_type": "markdown",
   "metadata": {},
   "source": [
    "#### Linear Discriminant Analysis"
   ]
  },
  {
   "cell_type": "markdown",
   "metadata": {},
   "source": [
    "###### wine data"
   ]
  },
  {
   "cell_type": "code",
   "execution_count": 85,
   "metadata": {},
   "outputs": [],
   "source": [
    "X_train, X_test, y_train, y_test = train_test_split(wine_X, wine_y, test_size=0.20)"
   ]
  },
  {
   "cell_type": "code",
   "execution_count": 86,
   "metadata": {},
   "outputs": [],
   "source": [
    "from sklearn.discriminant_analysis import LinearDiscriminantAnalysis"
   ]
  },
  {
   "cell_type": "code",
   "execution_count": 87,
   "metadata": {},
   "outputs": [
    {
     "name": "stderr",
     "output_type": "stream",
     "text": [
      "/Users/faizank/Documents/courses/comp551/mini_project1/lib/python3.7/site-packages/sklearn/utils/validation.py:724: DataConversionWarning: A column-vector y was passed when a 1d array was expected. Please change the shape of y to (n_samples, ), for example using ravel().\n",
      "  y = column_or_1d(y, warn=True)\n"
     ]
    },
    {
     "data": {
      "text/plain": [
       "0.7375"
      ]
     },
     "execution_count": 87,
     "metadata": {},
     "output_type": "execute_result"
    }
   ],
   "source": [
    "wine_model= LinearDiscriminantAnalysis()\n",
    "wine_model.fit(X_train, y_train)\n",
    "y_predicted = wine_model.predict(X_test)\n",
    "wine_model.score(X_test, y_test)"
   ]
  },
  {
   "cell_type": "code",
   "execution_count": 88,
   "metadata": {},
   "outputs": [],
   "source": [
    "from models.linear_discriminant_analysis import LearnDiscriminantAnalysis as LDA"
   ]
  },
  {
   "cell_type": "code",
   "execution_count": 90,
   "metadata": {},
   "outputs": [
    {
     "name": "stdout",
     "output_type": "stream",
     "text": [
      "model trained\n"
     ]
    }
   ],
   "source": [
    "custom_wine_model = LDA()\n",
    "custom_wine_model.fit(X_train, y_train)"
   ]
  },
  {
   "cell_type": "code",
   "execution_count": 91,
   "metadata": {},
   "outputs": [
    {
     "data": {
      "text/plain": [
       "0.7375"
      ]
     },
     "execution_count": 91,
     "metadata": {},
     "output_type": "execute_result"
    }
   ],
   "source": [
    "custom_wine_model.score(X_test, y_test)"
   ]
  },
  {
   "cell_type": "markdown",
   "metadata": {},
   "source": [
    "###### cancer data"
   ]
  },
  {
   "cell_type": "code",
   "execution_count": 92,
   "metadata": {},
   "outputs": [],
   "source": [
    "X_train, X_test, y_train, y_test = train_test_split(cancer_X, cancer_y, test_size=0.20)"
   ]
  },
  {
   "cell_type": "code",
   "execution_count": 93,
   "metadata": {},
   "outputs": [
    {
     "name": "stderr",
     "output_type": "stream",
     "text": [
      "/Users/faizank/Documents/courses/comp551/mini_project1/lib/python3.7/site-packages/sklearn/utils/validation.py:724: DataConversionWarning: A column-vector y was passed when a 1d array was expected. Please change the shape of y to (n_samples, ), for example using ravel().\n",
      "  y = column_or_1d(y, warn=True)\n"
     ]
    },
    {
     "data": {
      "text/plain": [
       "0.948905109489051"
      ]
     },
     "execution_count": 93,
     "metadata": {},
     "output_type": "execute_result"
    }
   ],
   "source": [
    "cancer_model = LinearDiscriminantAnalysis()\n",
    "cancer_model.fit(X_train, y_train)\n",
    "y_predicted = cancer_model.predict(X_test)\n",
    "cancer_model.score(X_test, y_test)"
   ]
  },
  {
   "cell_type": "code",
   "execution_count": 94,
   "metadata": {},
   "outputs": [
    {
     "name": "stdout",
     "output_type": "stream",
     "text": [
      "model trained\n"
     ]
    }
   ],
   "source": [
    "custom_cancer_model = LDA()\n",
    "custom_cancer_model.fit(X_train, y_train)\n",
    "custom_y_predicted = custom_cancer_model.predict(X_test)"
   ]
  },
  {
   "cell_type": "code",
   "execution_count": 298,
   "metadata": {},
   "outputs": [
    {
     "data": {
      "text/plain": [
       "0.521875"
      ]
     },
     "execution_count": 298,
     "metadata": {},
     "output_type": "execute_result"
    }
   ],
   "source": [
    "custom_cancer_model.score(X_test, y_test)"
   ]
  },
  {
   "cell_type": "code",
   "execution_count": null,
   "metadata": {},
   "outputs": [],
   "source": []
  },
  {
   "cell_type": "code",
   "execution_count": null,
   "metadata": {},
   "outputs": [],
   "source": []
  },
  {
   "cell_type": "markdown",
   "metadata": {},
   "source": [
    "#### K-fold cross validation"
   ]
  },
  {
   "cell_type": "markdown",
   "metadata": {},
   "source": [
    "#### Standard Logistic Regression"
   ]
  },
  {
   "cell_type": "code",
   "execution_count": 300,
   "metadata": {},
   "outputs": [
    {
     "name": "stdout",
     "output_type": "stream",
     "text": [
      "score: 0.6875\n",
      "time: 0.06409788131713867\n",
      "score: 0.696875\n",
      "time: 0.11700606346130371\n",
      "score: 0.746875\n",
      "time: 0.0457003116607666\n",
      "score: 0.78125\n",
      "time: 0.12688088417053223\n",
      "score: 0.7304075235109718\n",
      "time: 0.059960126876831055\n",
      "average score: 0.7285815047021944\n",
      "average time: 0.08272905349731445\n"
     ]
    },
    {
     "data": {
      "text/plain": [
       "0.7285815047021944"
      ]
     },
     "execution_count": 300,
     "metadata": {},
     "output_type": "execute_result"
    }
   ],
   "source": [
    "wine_model = LogisticRegression(solver=\"lbfgs\", max_iter=1000)\n",
    "k_fold_validation(wine_X, wine_y.reshape(len(wine_y),), wine_model,5)"
   ]
  },
  {
   "cell_type": "code",
   "execution_count": 299,
   "metadata": {},
   "outputs": [
    {
     "name": "stdout",
     "output_type": "stream",
     "text": [
      "score: 0.9343065693430657\n",
      "time: 0.020858287811279297\n",
      "score: 0.948905109489051\n",
      "time: 0.011723756790161133\n",
      "score: 0.9708029197080292\n",
      "time: 0.010136842727661133\n",
      "score: 0.9779411764705882\n",
      "time: 0.009614944458007812\n",
      "score: 1.0\n",
      "time: 0.016199111938476562\n",
      "average score: 0.9663911550021468\n",
      "average time: 0.013706588745117187\n"
     ]
    },
    {
     "data": {
      "text/plain": [
       "0.9663911550021468"
      ]
     },
     "execution_count": 299,
     "metadata": {},
     "output_type": "execute_result"
    }
   ],
   "source": [
    "cancer_model = LogisticRegression(solver=\"lbfgs\", max_iter=1000)\n",
    "k_fold_validation(cancer_X, cancer_y.reshape(len(cancer_y),), cancer_model,5)"
   ]
  },
  {
   "cell_type": "markdown",
   "metadata": {},
   "source": [
    "#### Custom Logistic Regression"
   ]
  },
  {
   "cell_type": "code",
   "execution_count": 301,
   "metadata": {},
   "outputs": [],
   "source": [
    "from models.logistic_regression import LogisticRegression as LR"
   ]
  },
  {
   "cell_type": "code",
   "execution_count": 302,
   "metadata": {},
   "outputs": [
    {
     "name": "stdout",
     "output_type": "stream",
     "text": [
      "starting model training with learning_rate =  0.0001 and num of iterations  100 reg factor 0 reg type 0\n",
      "score: 0.690625\n",
      "time: 2.225679874420166\n",
      "starting model training with learning_rate =  0.0001 and num of iterations  100 reg factor 0 reg type 0\n",
      "score: 0.3875\n",
      "time: 2.1224629878997803\n",
      "starting model training with learning_rate =  0.0001 and num of iterations  100 reg factor 0 reg type 0\n",
      "score: 0.478125\n",
      "time: 2.105513095855713\n",
      "starting model training with learning_rate =  0.0001 and num of iterations  100 reg factor 0 reg type 0\n",
      "score: 0.696875\n",
      "time: 1.9420857429504395\n",
      "starting model training with learning_rate =  0.0001 and num of iterations  100 reg factor 0 reg type 0\n",
      "score: 0.5611285266457681\n",
      "time: 1.9527602195739746\n",
      "average score: 0.5628507053291536\n",
      "average time: 2.0697003841400146\n"
     ]
    },
    {
     "data": {
      "text/plain": [
       "0.5628507053291536"
      ]
     },
     "execution_count": 302,
     "metadata": {},
     "output_type": "execute_result"
    }
   ],
   "source": [
    "learnrate, max_iter = 0.0001, 100\n",
    "wine_custom_model = LR( learnrate, max_iter)\n",
    "k_fold_validation(wine_X, wine_y, wine_custom_model,5)"
   ]
  },
  {
   "cell_type": "code",
   "execution_count": 303,
   "metadata": {},
   "outputs": [
    {
     "name": "stdout",
     "output_type": "stream",
     "text": [
      "starting model training with learning_rate =  0.0001 and num of iterations  100 reg factor 0 reg type 0\n",
      "score: 0.781021897810219\n",
      "time: 0.8991570472717285\n",
      "starting model training with learning_rate =  0.0001 and num of iterations  100 reg factor 0 reg type 0\n",
      "score: 0.8759124087591241\n",
      "time: 0.8727900981903076\n",
      "starting model training with learning_rate =  0.0001 and num of iterations  100 reg factor 0 reg type 0\n",
      "score: 0.8321167883211679\n",
      "time: 0.9911768436431885\n",
      "starting model training with learning_rate =  0.0001 and num of iterations  100 reg factor 0 reg type 0\n",
      "score: 0.8382352941176471\n",
      "time: 0.9474880695343018\n",
      "starting model training with learning_rate =  0.0001 and num of iterations  100 reg factor 0 reg type 0\n",
      "score: 0.9191176470588235\n",
      "time: 0.9139461517333984\n",
      "average score: 0.8492808072133963\n",
      "average time: 0.924911642074585\n"
     ]
    },
    {
     "data": {
      "text/plain": [
       "0.8492808072133963"
      ]
     },
     "execution_count": 303,
     "metadata": {},
     "output_type": "execute_result"
    }
   ],
   "source": [
    "cancer_custom_model = LR(learnrate, max_iter)\n",
    "k_fold_validation(cancer_X, cancer_y, cancer_custom_model, 5)"
   ]
  },
  {
   "cell_type": "markdown",
   "metadata": {},
   "source": [
    "#### Standard LDA"
   ]
  },
  {
   "cell_type": "code",
   "execution_count": 118,
   "metadata": {},
   "outputs": [],
   "source": [
    "from sklearn.discriminant_analysis import LinearDiscriminantAnalysis"
   ]
  },
  {
   "cell_type": "code",
   "execution_count": 119,
   "metadata": {},
   "outputs": [
    {
     "name": "stdout",
     "output_type": "stream",
     "text": [
      "score: 0.69375\n",
      "time: 0.008784294128417969\n"
     ]
    },
    {
     "data": {
      "text/plain": [
       "0.69375"
      ]
     },
     "execution_count": 119,
     "metadata": {},
     "output_type": "execute_result"
    }
   ],
   "source": [
    "wine_model = LinearDiscriminantAnalysis()\n",
    "k_fold_validation(wine_X, wine_y.reshape(len(wine_y),), wine_model,5)"
   ]
  },
  {
   "cell_type": "code",
   "execution_count": 120,
   "metadata": {},
   "outputs": [
    {
     "name": "stdout",
     "output_type": "stream",
     "text": [
      "score: 0.8905109489051095\n",
      "time: 0.00430607795715332\n"
     ]
    },
    {
     "data": {
      "text/plain": [
       "0.8905109489051095"
      ]
     },
     "execution_count": 120,
     "metadata": {},
     "output_type": "execute_result"
    }
   ],
   "source": [
    "cancer_model = LinearDiscriminantAnalysis()\n",
    "k_fold_validation(cancer_X, cancer_y.reshape(len(cancer_y),), cancer_model,5)"
   ]
  },
  {
   "cell_type": "markdown",
   "metadata": {},
   "source": [
    "#### Custom LDA"
   ]
  },
  {
   "cell_type": "code",
   "execution_count": 79,
   "metadata": {},
   "outputs": [],
   "source": [
    "from models.linear_discriminant_analysis import LearnDiscriminantAnalysis as LDA"
   ]
  },
  {
   "cell_type": "code",
   "execution_count": 80,
   "metadata": {},
   "outputs": [
    {
     "name": "stdout",
     "output_type": "stream",
     "text": [
      "model trained\n",
      "model trained\n",
      "model trained\n",
      "model trained\n",
      "model trained\n",
      "score: [0.69375]\n",
      "time: 0.06235694885253906\n"
     ]
    },
    {
     "data": {
      "text/plain": [
       "array([0.69375])"
      ]
     },
     "execution_count": 80,
     "metadata": {},
     "output_type": "execute_result"
    }
   ],
   "source": [
    "wine_custom_lda = LDA()\n",
    "k_fold_validation(wine_X, wine_y, wine_custom_lda,5)"
   ]
  },
  {
   "cell_type": "code",
   "execution_count": 81,
   "metadata": {},
   "outputs": [
    {
     "name": "stdout",
     "output_type": "stream",
     "text": [
      "model trained\n",
      "model trained\n",
      "model trained\n",
      "model trained\n",
      "model trained\n",
      "score: [0.89051095]\n",
      "time: 0.03140997886657715\n"
     ]
    },
    {
     "data": {
      "text/plain": [
       "array([0.89051095])"
      ]
     },
     "execution_count": 81,
     "metadata": {},
     "output_type": "execute_result"
    }
   ],
   "source": [
    "cancer_custom_model = LDA()\n",
    "k_fold_validation(cancer_X, cancer_y, cancer_custom_model, 5)"
   ]
  },
  {
   "cell_type": "markdown",
   "metadata": {},
   "source": [
    "## TASK 3"
   ]
  },
  {
   "cell_type": "markdown",
   "metadata": {},
   "source": [
    "### experiment with different learning rates, runtime and accuracy for Logistic regression"
   ]
  },
  {
   "cell_type": "code",
   "execution_count": 275,
   "metadata": {},
   "outputs": [],
   "source": [
    "#do runtime measurements\n",
    "lr = [0.1, 0.01, 0.001, 0.0001, 0.00001]\n",
    "n_iter = 300"
   ]
  },
  {
   "cell_type": "code",
   "execution_count": 276,
   "metadata": {},
   "outputs": [
    {
     "name": "stdout",
     "output_type": "stream",
     "text": [
      "accuracy of learning rate 0.1: \n",
      "starting model training with learning_rate =  0.1 and num of iterations  300 reg factor 0 reg type 0\n",
      "score: 0.6125\n",
      "time: 6.367065906524658\n",
      "starting model training with learning_rate =  0.1 and num of iterations  300 reg factor 0 reg type 0\n",
      "score: 0.3875\n",
      "time: 5.746532201766968\n",
      "starting model training with learning_rate =  0.1 and num of iterations  300 reg factor 0 reg type 0\n",
      "score: 0.61875\n",
      "time: 6.2431862354278564\n",
      "starting model training with learning_rate =  0.1 and num of iterations  300 reg factor 0 reg type 0\n",
      "score: 0.696875\n",
      "time: 6.428929805755615\n",
      "starting model training with learning_rate =  0.1 and num of iterations  300 reg factor 0 reg type 0\n",
      "score: 0.5141065830721003\n",
      "time: 6.488473176956177\n",
      "average score: 0.5659463166144201\n",
      "average time: 6.254837465286255\n",
      "\n",
      "accuracy of learning rate 0.01: \n",
      "starting model training with learning_rate =  0.01 and num of iterations  300 reg factor 0 reg type 0\n",
      "score: 0.6125\n",
      "time: 6.333739995956421\n",
      "starting model training with learning_rate =  0.01 and num of iterations  300 reg factor 0 reg type 0\n",
      "score: 0.3875\n",
      "time: 6.177825212478638\n",
      "starting model training with learning_rate =  0.01 and num of iterations  300 reg factor 0 reg type 0\n",
      "score: 0.61875\n",
      "time: 6.04093074798584\n",
      "starting model training with learning_rate =  0.01 and num of iterations  300 reg factor 0 reg type 0\n",
      "score: 0.696875\n",
      "time: 5.928473234176636\n",
      "starting model training with learning_rate =  0.01 and num of iterations  300 reg factor 0 reg type 0\n",
      "score: 0.5141065830721003\n",
      "time: 5.935363054275513\n",
      "average score: 0.5659463166144201\n",
      "average time: 6.0832664489746096\n",
      "\n",
      "accuracy of learning rate 0.001: \n",
      "starting model training with learning_rate =  0.001 and num of iterations  300 reg factor 0 reg type 0\n",
      "score: 0.60625\n",
      "time: 6.110471963882446\n",
      "starting model training with learning_rate =  0.001 and num of iterations  300 reg factor 0 reg type 0\n",
      "score: 0.3875\n",
      "time: 6.061522960662842\n",
      "starting model training with learning_rate =  0.001 and num of iterations  300 reg factor 0 reg type 0\n",
      "score: 0.61875\n",
      "time: 6.045147895812988\n",
      "starting model training with learning_rate =  0.001 and num of iterations  300 reg factor 0 reg type 0\n",
      "score: 0.696875\n",
      "time: 5.902456045150757\n",
      "starting model training with learning_rate =  0.001 and num of iterations  300 reg factor 0 reg type 0\n",
      "score: 0.5141065830721003\n",
      "time: 6.124508857727051\n",
      "average score: 0.5646963166144201\n",
      "average time: 6.048821544647216\n",
      "\n",
      "accuracy of learning rate 0.0001: \n",
      "starting model training with learning_rate =  0.0001 and num of iterations  300 reg factor 0 reg type 0\n",
      "score: 0.390625\n",
      "time: 6.167082071304321\n",
      "starting model training with learning_rate =  0.0001 and num of iterations  300 reg factor 0 reg type 0\n",
      "score: 0.45625\n",
      "time: 6.630291938781738\n",
      "starting model training with learning_rate =  0.0001 and num of iterations  300 reg factor 0 reg type 0\n",
      "score: 0.628125\n",
      "time: 5.9653480052948\n",
      "starting model training with learning_rate =  0.0001 and num of iterations  300 reg factor 0 reg type 0\n",
      "score: 0.696875\n",
      "time: 6.018378973007202\n",
      "starting model training with learning_rate =  0.0001 and num of iterations  300 reg factor 0 reg type 0\n",
      "score: 0.49843260188087773\n",
      "time: 6.245666027069092\n",
      "average score: 0.5340615203761756\n",
      "average time: 6.205353403091431\n",
      "\n",
      "accuracy of learning rate 1e-05: \n",
      "starting model training with learning_rate =  1e-05 and num of iterations  300 reg factor 0 reg type 0\n",
      "score: 0.390625\n",
      "time: 5.898432016372681\n",
      "starting model training with learning_rate =  1e-05 and num of iterations  300 reg factor 0 reg type 0\n",
      "score: 0.45625\n",
      "time: 6.722549915313721\n",
      "starting model training with learning_rate =  1e-05 and num of iterations  300 reg factor 0 reg type 0\n",
      "score: 0.565625\n",
      "time: 6.052385091781616\n",
      "starting model training with learning_rate =  1e-05 and num of iterations  300 reg factor 0 reg type 0\n",
      "score: 0.678125\n",
      "time: 6.056370973587036\n",
      "starting model training with learning_rate =  1e-05 and num of iterations  300 reg factor 0 reg type 0\n",
      "score: 0.4827586206896552\n",
      "time: 5.817927837371826\n",
      "average score: 0.5146767241379311\n",
      "average time: 6.109533166885376\n",
      "\n"
     ]
    }
   ],
   "source": [
    "for learn in lr:\n",
    "    print(\"accuracy of learning rate \" + str(learn) + \": \")\n",
    "    wine_custom_model = LR(learn, n_iter)\n",
    "    k_fold_validation(wine_X, wine_y, wine_custom_model,5)\n",
    "    print(\"\")\n"
   ]
  },
  {
   "cell_type": "code",
   "execution_count": 124,
   "metadata": {},
   "outputs": [
    {
     "name": "stdout",
     "output_type": "stream",
     "text": [
      "accuracy of learning rate 0.1: \n",
      "starting model training with learning_rate =  0.0001 and num of iterations  100\n",
      "model trained with params [-0.40252287  0.48486982  0.26855285  0.12798566 -0.5851789   0.48253749\n",
      " -0.25857099  0.23760149 -0.27854239]\n",
      "starting model training with learning_rate =  0.0001 and num of iterations  100\n",
      "model trained with params [-0.34497068  0.43298706  0.23561769  0.08404434 -0.47399206  0.3872104\n",
      " -0.24861692  0.29036355 -0.19720276]\n",
      "starting model training with learning_rate =  0.0001 and num of iterations  100\n",
      "model trained with params [-0.34884959  0.47036658  0.29612595  0.09051158 -0.41851098  0.35346466\n",
      " -0.3170787   0.24136968 -0.16019725]\n",
      "starting model training with learning_rate =  0.0001 and num of iterations  100\n",
      "model trained with params [-0.24259122  0.47575784  0.24105813  0.13541297 -0.434275    0.3895818\n",
      " -0.42556181  0.2322706  -0.17016326]\n",
      "starting model training with learning_rate =  0.0001 and num of iterations  100\n",
      "model trained with params [-0.25561857  0.3805795   0.27345383  0.07515094 -0.38832905  0.40463093\n",
      " -0.40523636  0.22543108 -0.13743153]\n",
      "score: [0.7810219]\n",
      "time: 1.006221055984497\n",
      "\n",
      "accuracy of learning rate 0.01: \n",
      "starting model training with learning_rate =  0.0001 and num of iterations  100\n",
      "model trained with params [-0.40252287  0.48486982  0.26855285  0.12798566 -0.5851789   0.48253749\n",
      " -0.25857099  0.23760149 -0.27854239]\n",
      "starting model training with learning_rate =  0.0001 and num of iterations  100\n",
      "model trained with params [-0.34497068  0.43298706  0.23561769  0.08404434 -0.47399206  0.3872104\n",
      " -0.24861692  0.29036355 -0.19720276]\n",
      "starting model training with learning_rate =  0.0001 and num of iterations  100\n",
      "model trained with params [-0.34884959  0.47036658  0.29612595  0.09051158 -0.41851098  0.35346466\n",
      " -0.3170787   0.24136968 -0.16019725]\n",
      "starting model training with learning_rate =  0.0001 and num of iterations  100\n",
      "model trained with params [-0.24259122  0.47575784  0.24105813  0.13541297 -0.434275    0.3895818\n",
      " -0.42556181  0.2322706  -0.17016326]\n",
      "starting model training with learning_rate =  0.0001 and num of iterations  100\n",
      "model trained with params [-0.25561857  0.3805795   0.27345383  0.07515094 -0.38832905  0.40463093\n",
      " -0.40523636  0.22543108 -0.13743153]\n",
      "score: [0.7810219]\n",
      "time: 0.8594639301300049\n",
      "\n",
      "accuracy of learning rate 0.001: \n",
      "starting model training with learning_rate =  0.0001 and num of iterations  100\n",
      "model trained with params [-0.40252287  0.48486982  0.26855285  0.12798566 -0.5851789   0.48253749\n",
      " -0.25857099  0.23760149 -0.27854239]\n",
      "starting model training with learning_rate =  0.0001 and num of iterations  100\n",
      "model trained with params [-0.34497068  0.43298706  0.23561769  0.08404434 -0.47399206  0.3872104\n",
      " -0.24861692  0.29036355 -0.19720276]\n",
      "starting model training with learning_rate =  0.0001 and num of iterations  100\n",
      "model trained with params [-0.34884959  0.47036658  0.29612595  0.09051158 -0.41851098  0.35346466\n",
      " -0.3170787   0.24136968 -0.16019725]\n",
      "starting model training with learning_rate =  0.0001 and num of iterations  100\n",
      "model trained with params [-0.24259122  0.47575784  0.24105813  0.13541297 -0.434275    0.3895818\n",
      " -0.42556181  0.2322706  -0.17016326]\n",
      "starting model training with learning_rate =  0.0001 and num of iterations  100\n",
      "model trained with params [-0.25561857  0.3805795   0.27345383  0.07515094 -0.38832905  0.40463093\n",
      " -0.40523636  0.22543108 -0.13743153]\n",
      "score: [0.7810219]\n",
      "time: 0.8937671184539795\n",
      "\n",
      "accuracy of learning rate 0.0001: \n",
      "starting model training with learning_rate =  0.0001 and num of iterations  100\n",
      "model trained with params [-0.40252287  0.48486982  0.26855285  0.12798566 -0.5851789   0.48253749\n",
      " -0.25857099  0.23760149 -0.27854239]\n",
      "starting model training with learning_rate =  0.0001 and num of iterations  100\n",
      "model trained with params [-0.34497068  0.43298706  0.23561769  0.08404434 -0.47399206  0.3872104\n",
      " -0.24861692  0.29036355 -0.19720276]\n",
      "starting model training with learning_rate =  0.0001 and num of iterations  100\n",
      "model trained with params [-0.34884959  0.47036658  0.29612595  0.09051158 -0.41851098  0.35346466\n",
      " -0.3170787   0.24136968 -0.16019725]\n",
      "starting model training with learning_rate =  0.0001 and num of iterations  100\n",
      "model trained with params [-0.24259122  0.47575784  0.24105813  0.13541297 -0.434275    0.3895818\n",
      " -0.42556181  0.2322706  -0.17016326]\n",
      "starting model training with learning_rate =  0.0001 and num of iterations  100\n",
      "model trained with params [-0.25561857  0.3805795   0.27345383  0.07515094 -0.38832905  0.40463093\n",
      " -0.40523636  0.22543108 -0.13743153]\n",
      "score: [0.7810219]\n",
      "time: 1.007343053817749\n",
      "\n",
      "accuracy of learning rate 1e-05: \n",
      "starting model training with learning_rate =  0.0001 and num of iterations  100\n",
      "model trained with params [-0.40252287  0.48486982  0.26855285  0.12798566 -0.5851789   0.48253749\n",
      " -0.25857099  0.23760149 -0.27854239]\n",
      "starting model training with learning_rate =  0.0001 and num of iterations  100\n",
      "model trained with params [-0.34497068  0.43298706  0.23561769  0.08404434 -0.47399206  0.3872104\n",
      " -0.24861692  0.29036355 -0.19720276]\n",
      "starting model training with learning_rate =  0.0001 and num of iterations  100\n",
      "model trained with params [-0.34884959  0.47036658  0.29612595  0.09051158 -0.41851098  0.35346466\n",
      " -0.3170787   0.24136968 -0.16019725]\n",
      "starting model training with learning_rate =  0.0001 and num of iterations  100\n",
      "model trained with params [-0.24259122  0.47575784  0.24105813  0.13541297 -0.434275    0.3895818\n",
      " -0.42556181  0.2322706  -0.17016326]\n",
      "starting model training with learning_rate =  0.0001 and num of iterations  100\n",
      "model trained with params [-0.25561857  0.3805795   0.27345383  0.07515094 -0.38832905  0.40463093\n",
      " -0.40523636  0.22543108 -0.13743153]\n",
      "score: [0.7810219]\n",
      "time: 0.923555850982666\n",
      "\n"
     ]
    }
   ],
   "source": [
    "for learn in lr:\n",
    "    print(\"accuracy of learning rate \" + str(learn) + \": \")\n",
    "    cancer_custom_model = LR(learnrate, max_iter)\n",
    "    k_fold_validation(cancer_X, cancer_y, cancer_custom_model, 5)\n",
    "    print(\"\")"
   ]
  },
  {
   "cell_type": "code",
   "execution_count": null,
   "metadata": {},
   "outputs": [],
   "source": []
  },
  {
   "cell_type": "markdown",
   "metadata": {},
   "source": [
    "### 3.2 runtime and accuracy for Logistic Regression vs LDA done in the k-fold validation section"
   ]
  },
  {
   "cell_type": "markdown",
   "metadata": {},
   "source": [
    "### 3.3 Wine dataset, new feature exploration with Logistic Regression"
   ]
  },
  {
   "cell_type": "code",
   "execution_count": 238,
   "metadata": {},
   "outputs": [],
   "source": [
    "wine = pd.read_csv(\"data/winequality/winequality-red.csv\", sep=\";\")\n",
    "wine['classified'] = [1 if x>=6 else 0 for x in wine[\"quality\"] ]"
   ]
  },
  {
   "cell_type": "code",
   "execution_count": 239,
   "metadata": {
    "scrolled": true
   },
   "outputs": [],
   "source": [
    "wine_squared = wine.copy(True)"
   ]
  },
  {
   "cell_type": "code",
   "execution_count": 240,
   "metadata": {
    "scrolled": true
   },
   "outputs": [],
   "source": [
    "for column in wine_squared.columns:\n",
    "    if column != 'quality' or column != 'classified':\n",
    "        wine_squared[column+' 2'] = wine_squared[column]**2"
   ]
  },
  {
   "cell_type": "code",
   "execution_count": 241,
   "metadata": {},
   "outputs": [
    {
     "data": {
      "text/html": [
       "<div>\n",
       "<style scoped>\n",
       "    .dataframe tbody tr th:only-of-type {\n",
       "        vertical-align: middle;\n",
       "    }\n",
       "\n",
       "    .dataframe tbody tr th {\n",
       "        vertical-align: top;\n",
       "    }\n",
       "\n",
       "    .dataframe thead th {\n",
       "        text-align: right;\n",
       "    }\n",
       "</style>\n",
       "<table border=\"1\" class=\"dataframe\">\n",
       "  <thead>\n",
       "    <tr style=\"text-align: right;\">\n",
       "      <th></th>\n",
       "      <th>fixed acidity</th>\n",
       "      <th>volatile acidity</th>\n",
       "      <th>citric acid</th>\n",
       "      <th>residual sugar</th>\n",
       "      <th>chlorides</th>\n",
       "      <th>free sulfur dioxide</th>\n",
       "      <th>total sulfur dioxide</th>\n",
       "      <th>density</th>\n",
       "      <th>pH</th>\n",
       "      <th>sulphates</th>\n",
       "      <th>...</th>\n",
       "      <th>residual sugar 2</th>\n",
       "      <th>chlorides 2</th>\n",
       "      <th>free sulfur dioxide 2</th>\n",
       "      <th>total sulfur dioxide 2</th>\n",
       "      <th>density 2</th>\n",
       "      <th>pH 2</th>\n",
       "      <th>sulphates 2</th>\n",
       "      <th>alcohol 2</th>\n",
       "      <th>quality 2</th>\n",
       "      <th>classified 2</th>\n",
       "    </tr>\n",
       "  </thead>\n",
       "  <tbody>\n",
       "    <tr>\n",
       "      <td>0</td>\n",
       "      <td>7.4</td>\n",
       "      <td>0.70</td>\n",
       "      <td>0.00</td>\n",
       "      <td>1.9</td>\n",
       "      <td>0.076</td>\n",
       "      <td>11.0</td>\n",
       "      <td>34.0</td>\n",
       "      <td>0.9978</td>\n",
       "      <td>3.51</td>\n",
       "      <td>0.56</td>\n",
       "      <td>...</td>\n",
       "      <td>3.61</td>\n",
       "      <td>0.005776</td>\n",
       "      <td>121.0</td>\n",
       "      <td>1156.0</td>\n",
       "      <td>0.995605</td>\n",
       "      <td>12.3201</td>\n",
       "      <td>0.3136</td>\n",
       "      <td>88.36</td>\n",
       "      <td>25</td>\n",
       "      <td>0</td>\n",
       "    </tr>\n",
       "    <tr>\n",
       "      <td>1</td>\n",
       "      <td>7.8</td>\n",
       "      <td>0.88</td>\n",
       "      <td>0.00</td>\n",
       "      <td>2.6</td>\n",
       "      <td>0.098</td>\n",
       "      <td>25.0</td>\n",
       "      <td>67.0</td>\n",
       "      <td>0.9968</td>\n",
       "      <td>3.20</td>\n",
       "      <td>0.68</td>\n",
       "      <td>...</td>\n",
       "      <td>6.76</td>\n",
       "      <td>0.009604</td>\n",
       "      <td>625.0</td>\n",
       "      <td>4489.0</td>\n",
       "      <td>0.993610</td>\n",
       "      <td>10.2400</td>\n",
       "      <td>0.4624</td>\n",
       "      <td>96.04</td>\n",
       "      <td>25</td>\n",
       "      <td>0</td>\n",
       "    </tr>\n",
       "    <tr>\n",
       "      <td>2</td>\n",
       "      <td>7.8</td>\n",
       "      <td>0.76</td>\n",
       "      <td>0.04</td>\n",
       "      <td>2.3</td>\n",
       "      <td>0.092</td>\n",
       "      <td>15.0</td>\n",
       "      <td>54.0</td>\n",
       "      <td>0.9970</td>\n",
       "      <td>3.26</td>\n",
       "      <td>0.65</td>\n",
       "      <td>...</td>\n",
       "      <td>5.29</td>\n",
       "      <td>0.008464</td>\n",
       "      <td>225.0</td>\n",
       "      <td>2916.0</td>\n",
       "      <td>0.994009</td>\n",
       "      <td>10.6276</td>\n",
       "      <td>0.4225</td>\n",
       "      <td>96.04</td>\n",
       "      <td>25</td>\n",
       "      <td>0</td>\n",
       "    </tr>\n",
       "    <tr>\n",
       "      <td>3</td>\n",
       "      <td>11.2</td>\n",
       "      <td>0.28</td>\n",
       "      <td>0.56</td>\n",
       "      <td>1.9</td>\n",
       "      <td>0.075</td>\n",
       "      <td>17.0</td>\n",
       "      <td>60.0</td>\n",
       "      <td>0.9980</td>\n",
       "      <td>3.16</td>\n",
       "      <td>0.58</td>\n",
       "      <td>...</td>\n",
       "      <td>3.61</td>\n",
       "      <td>0.005625</td>\n",
       "      <td>289.0</td>\n",
       "      <td>3600.0</td>\n",
       "      <td>0.996004</td>\n",
       "      <td>9.9856</td>\n",
       "      <td>0.3364</td>\n",
       "      <td>96.04</td>\n",
       "      <td>36</td>\n",
       "      <td>1</td>\n",
       "    </tr>\n",
       "    <tr>\n",
       "      <td>4</td>\n",
       "      <td>7.4</td>\n",
       "      <td>0.70</td>\n",
       "      <td>0.00</td>\n",
       "      <td>1.9</td>\n",
       "      <td>0.076</td>\n",
       "      <td>11.0</td>\n",
       "      <td>34.0</td>\n",
       "      <td>0.9978</td>\n",
       "      <td>3.51</td>\n",
       "      <td>0.56</td>\n",
       "      <td>...</td>\n",
       "      <td>3.61</td>\n",
       "      <td>0.005776</td>\n",
       "      <td>121.0</td>\n",
       "      <td>1156.0</td>\n",
       "      <td>0.995605</td>\n",
       "      <td>12.3201</td>\n",
       "      <td>0.3136</td>\n",
       "      <td>88.36</td>\n",
       "      <td>25</td>\n",
       "      <td>0</td>\n",
       "    </tr>\n",
       "  </tbody>\n",
       "</table>\n",
       "<p>5 rows × 26 columns</p>\n",
       "</div>"
      ],
      "text/plain": [
       "   fixed acidity  volatile acidity  citric acid  residual sugar  chlorides  \\\n",
       "0            7.4              0.70         0.00             1.9      0.076   \n",
       "1            7.8              0.88         0.00             2.6      0.098   \n",
       "2            7.8              0.76         0.04             2.3      0.092   \n",
       "3           11.2              0.28         0.56             1.9      0.075   \n",
       "4            7.4              0.70         0.00             1.9      0.076   \n",
       "\n",
       "   free sulfur dioxide  total sulfur dioxide  density    pH  sulphates  ...  \\\n",
       "0                 11.0                  34.0   0.9978  3.51       0.56  ...   \n",
       "1                 25.0                  67.0   0.9968  3.20       0.68  ...   \n",
       "2                 15.0                  54.0   0.9970  3.26       0.65  ...   \n",
       "3                 17.0                  60.0   0.9980  3.16       0.58  ...   \n",
       "4                 11.0                  34.0   0.9978  3.51       0.56  ...   \n",
       "\n",
       "   residual sugar 2  chlorides 2  free sulfur dioxide 2  \\\n",
       "0              3.61     0.005776                  121.0   \n",
       "1              6.76     0.009604                  625.0   \n",
       "2              5.29     0.008464                  225.0   \n",
       "3              3.61     0.005625                  289.0   \n",
       "4              3.61     0.005776                  121.0   \n",
       "\n",
       "   total sulfur dioxide 2  density 2     pH 2  sulphates 2  alcohol 2  \\\n",
       "0                  1156.0   0.995605  12.3201       0.3136      88.36   \n",
       "1                  4489.0   0.993610  10.2400       0.4624      96.04   \n",
       "2                  2916.0   0.994009  10.6276       0.4225      96.04   \n",
       "3                  3600.0   0.996004   9.9856       0.3364      96.04   \n",
       "4                  1156.0   0.995605  12.3201       0.3136      88.36   \n",
       "\n",
       "   quality 2  classified 2  \n",
       "0         25             0  \n",
       "1         25             0  \n",
       "2         25             0  \n",
       "3         36             1  \n",
       "4         25             0  \n",
       "\n",
       "[5 rows x 26 columns]"
      ]
     },
     "execution_count": 241,
     "metadata": {},
     "output_type": "execute_result"
    }
   ],
   "source": [
    "wine_squared.head()"
   ]
  },
  {
   "cell_type": "markdown",
   "metadata": {},
   "source": [
    "##### using both the squared and non-squared features"
   ]
  },
  {
   "cell_type": "code",
   "execution_count": 242,
   "metadata": {},
   "outputs": [],
   "source": [
    "wine_X = np.array(wine_squared[['fixed acidity', 'volatile acidity', 'citric acid', 'residual sugar',\n",
    "       'chlorides', 'free sulfur dioxide', 'total sulfur dioxide', 'density',\n",
    "       'pH', 'sulphates', 'alcohol', 'fixed acidity 2', 'volatile acidity 2', 'citric acid 2', 'residual sugar 2',\n",
    "       'chlorides 2', 'free sulfur dioxide 2', 'total sulfur dioxide 2', 'density 2',\n",
    "       'pH 2', 'sulphates 2', 'alcohol 2']])\n",
    "wine_y = np.array(wine_squared[['classified']])"
   ]
  },
  {
   "cell_type": "code",
   "execution_count": 243,
   "metadata": {},
   "outputs": [
    {
     "data": {
      "text/plain": [
       "(1599, 22)"
      ]
     },
     "execution_count": 243,
     "metadata": {},
     "output_type": "execute_result"
    }
   ],
   "source": [
    "wine_X.shape"
   ]
  },
  {
   "cell_type": "code",
   "execution_count": 244,
   "metadata": {},
   "outputs": [],
   "source": [
    "from models.logistic_regression import LogisticRegression as LR"
   ]
  },
  {
   "cell_type": "code",
   "execution_count": 245,
   "metadata": {},
   "outputs": [],
   "source": [
    "X_train, X_test, y_train, y_test = train_test_split(wine_X, wine_y, test_size=0.20)"
   ]
  },
  {
   "cell_type": "code",
   "execution_count": 246,
   "metadata": {},
   "outputs": [
    {
     "name": "stdout",
     "output_type": "stream",
     "text": [
      "starting model training with learning_rate =  1e-05 and num of iterations  100\n",
      "model trained with params [ 1.08541870e+00  2.99170476e-02  5.25432748e-02  3.08944439e-01\n",
      "  7.97421482e-03  1.90811656e+00  3.44777799e+00  1.17252965e-01\n",
      "  3.89814321e-01  1.02038939e-01  1.45541291e+00  1.05376704e+01\n",
      "  8.03168755e-04  2.54509026e-02  1.11681963e+00  3.75586594e-04\n",
      "  3.21361164e+01 -1.27315825e+01  1.16778890e-01  1.29439468e+00\n",
      "  8.59502854e-02  1.78361261e+01]\n"
     ]
    },
    {
     "data": {
      "text/plain": [
       "array([0.521875])"
      ]
     },
     "execution_count": 246,
     "metadata": {},
     "output_type": "execute_result"
    }
   ],
   "source": [
    "wine_model=LR(learning_rate=0.00001, max_iter=100)\n",
    "wine_model.fit(X_train, y_train)\n",
    "y_predicted = wine_model.predict(X_test)\n",
    "wine_model.score(X_test, y_test)"
   ]
  },
  {
   "cell_type": "code",
   "execution_count": 264,
   "metadata": {},
   "outputs": [
    {
     "name": "stdout",
     "output_type": "stream",
     "text": [
      "starting model training with learning_rate =  1e-05 and num of iterations  100\n",
      "score: 0.60625\n",
      "time: 3.7702178955078125\n",
      "starting model training with learning_rate =  1e-05 and num of iterations  100\n",
      "score: 0.3875\n",
      "time: 2.4853909015655518\n",
      "starting model training with learning_rate =  1e-05 and num of iterations  100\n",
      "score: 0.471875\n",
      "time: 2.531095027923584\n",
      "starting model training with learning_rate =  1e-05 and num of iterations  100\n",
      "score: 0.68125\n",
      "time: 2.163975238800049\n",
      "starting model training with learning_rate =  1e-05 and num of iterations  100\n",
      "score: 0.5454545454545454\n",
      "time: 2.0967559814453125\n",
      "average score: 0.5384659090909091\n",
      "average time: 2.609487009048462\n"
     ]
    },
    {
     "data": {
      "text/plain": [
       "0.5384659090909091"
      ]
     },
     "execution_count": 264,
     "metadata": {},
     "output_type": "execute_result"
    }
   ],
   "source": [
    "k_fold_validation(wine_X, wine_y, wine_model,5)"
   ]
  },
  {
   "cell_type": "markdown",
   "metadata": {},
   "source": [
    "##### using only the squared features"
   ]
  },
  {
   "cell_type": "code",
   "execution_count": 265,
   "metadata": {},
   "outputs": [],
   "source": [
    "wine_X = np.array(wine_squared[['fixed acidity 2', 'volatile acidity 2', 'citric acid 2', 'residual sugar 2',\n",
    "       'chlorides 2', 'free sulfur dioxide 2', 'total sulfur dioxide 2', 'density 2',\n",
    "       'pH 2', 'sulphates 2', 'alcohol 2']])\n",
    "wine_y = np.array(wine_squared[['classified']])"
   ]
  },
  {
   "cell_type": "code",
   "execution_count": 266,
   "metadata": {},
   "outputs": [],
   "source": [
    "X_train, X_test, y_train, y_test = train_test_split(wine_X, wine_y, test_size=0.20)"
   ]
  },
  {
   "cell_type": "code",
   "execution_count": 267,
   "metadata": {},
   "outputs": [
    {
     "name": "stdout",
     "output_type": "stream",
     "text": [
      "starting model training with learning_rate =  1e-05 and num of iterations  100\n"
     ]
    },
    {
     "data": {
      "text/plain": [
       "array([0.553125])"
      ]
     },
     "execution_count": 267,
     "metadata": {},
     "output_type": "execute_result"
    }
   ],
   "source": [
    "wine_model=LR(learning_rate=0.00001, max_iter=100)\n",
    "wine_model.fit(X_train, y_train)\n",
    "y_predicted = wine_model.predict(X_test)\n",
    "wine_model.score(X_test, y_test)"
   ]
  },
  {
   "cell_type": "code",
   "execution_count": 268,
   "metadata": {},
   "outputs": [
    {
     "name": "stdout",
     "output_type": "stream",
     "text": [
      "starting model training with learning_rate =  1e-05 and num of iterations  100\n",
      "score: 0.603125\n",
      "time: 2.110936164855957\n",
      "starting model training with learning_rate =  1e-05 and num of iterations  100\n",
      "score: 0.3875\n",
      "time: 2.0674517154693604\n",
      "starting model training with learning_rate =  1e-05 and num of iterations  100\n",
      "score: 0.478125\n",
      "time: 2.0168750286102295\n",
      "starting model training with learning_rate =  1e-05 and num of iterations  100\n",
      "score: 0.675\n",
      "time: 1.9575963020324707\n",
      "starting model training with learning_rate =  1e-05 and num of iterations  100\n",
      "score: 0.5611285266457681\n",
      "time: 2.025783061981201\n",
      "average score: 0.5409757053291536\n",
      "average time: 2.0357284545898438\n"
     ]
    },
    {
     "data": {
      "text/plain": [
       "0.5409757053291536"
      ]
     },
     "execution_count": 268,
     "metadata": {},
     "output_type": "execute_result"
    }
   ],
   "source": [
    "k_fold_validation(wine_X, wine_y, wine_model,5)"
   ]
  },
  {
   "cell_type": "markdown",
   "metadata": {},
   "source": [
    "##### as shown above, just using the squared features, we get  a better accuracy"
   ]
  },
  {
   "cell_type": "markdown",
   "metadata": {},
   "source": [
    "#### EXTRA "
   ]
  },
  {
   "cell_type": "markdown",
   "metadata": {},
   "source": [
    "## L2 regularization"
   ]
  },
  {
   "cell_type": "code",
   "execution_count": 286,
   "metadata": {},
   "outputs": [],
   "source": [
    "X_train, X_test, y_train, y_test = train_test_split(wine_X, wine_y, test_size=0.20)"
   ]
  },
  {
   "cell_type": "markdown",
   "metadata": {},
   "source": [
    "##### testing with different reg_factor (lambda) values "
   ]
  },
  {
   "cell_type": "code",
   "execution_count": 278,
   "metadata": {},
   "outputs": [
    {
     "name": "stdout",
     "output_type": "stream",
     "text": [
      "accuracy of learning rate 1: \n",
      "starting model training with learning_rate =  0.1 and num of iterations  300 reg factor 1 reg type 2\n",
      "score: 0.625\n",
      "time: 6.045644760131836\n",
      "starting model training with learning_rate =  0.1 and num of iterations  300 reg factor 1 reg type 2\n",
      "score: 0.61875\n",
      "time: 5.822701692581177\n",
      "starting model training with learning_rate =  0.1 and num of iterations  300 reg factor 1 reg type 2\n",
      "score: 0.6\n",
      "time: 5.839579105377197\n",
      "starting model training with learning_rate =  0.1 and num of iterations  300 reg factor 1 reg type 2\n",
      "score: 0.675\n",
      "time: 5.818820953369141\n",
      "starting model training with learning_rate =  0.1 and num of iterations  300 reg factor 1 reg type 2\n",
      "score: 0.5642633228840125\n",
      "time: 7.4851930141448975\n",
      "average score: 0.6166026645768025\n",
      "average time: 6.202387905120849\n",
      "\n",
      "accuracy of learning rate 0.1: \n",
      "starting model training with learning_rate =  0.1 and num of iterations  300 reg factor 0.1 reg type 2\n",
      "score: 0.54375\n",
      "time: 6.093235015869141\n",
      "starting model training with learning_rate =  0.1 and num of iterations  300 reg factor 0.1 reg type 2\n",
      "score: 0.6875\n",
      "time: 5.785797119140625\n",
      "starting model training with learning_rate =  0.1 and num of iterations  300 reg factor 0.1 reg type 2\n",
      "score: 0.546875\n",
      "time: 5.848049879074097\n",
      "starting model training with learning_rate =  0.1 and num of iterations  300 reg factor 0.1 reg type 2\n",
      "score: 0.69375\n",
      "time: 5.693860054016113\n",
      "starting model training with learning_rate =  0.1 and num of iterations  300 reg factor 0.1 reg type 2\n",
      "score: 0.5517241379310345\n",
      "time: 5.750540256500244\n",
      "average score: 0.6047198275862069\n",
      "average time: 5.834296464920044\n",
      "\n",
      "accuracy of learning rate 0.01: \n",
      "starting model training with learning_rate =  0.1 and num of iterations  300 reg factor 0.01 reg type 2\n",
      "score: 0.390625\n",
      "time: 5.948103904724121\n",
      "starting model training with learning_rate =  0.1 and num of iterations  300 reg factor 0.01 reg type 2\n",
      "score: 0.615625\n",
      "time: 5.936707973480225\n",
      "starting model training with learning_rate =  0.1 and num of iterations  300 reg factor 0.01 reg type 2\n",
      "score: 0.471875\n",
      "time: 5.880182981491089\n",
      "starting model training with learning_rate =  0.1 and num of iterations  300 reg factor 0.01 reg type 2\n",
      "score: 0.6875\n",
      "time: 5.6871631145477295\n",
      "starting model training with learning_rate =  0.1 and num of iterations  300 reg factor 0.01 reg type 2\n",
      "score: 0.554858934169279\n",
      "time: 5.916114807128906\n",
      "average score: 0.5440967868338558\n",
      "average time: 5.873654556274414\n",
      "\n",
      "accuracy of learning rate 0.001: \n",
      "starting model training with learning_rate =  0.1 and num of iterations  300 reg factor 0.001 reg type 2\n",
      "score: 0.59375\n",
      "time: 5.881927013397217\n",
      "starting model training with learning_rate =  0.1 and num of iterations  300 reg factor 0.001 reg type 2\n",
      "score: 0.65\n",
      "time: 6.177882194519043\n",
      "starting model training with learning_rate =  0.1 and num of iterations  300 reg factor 0.001 reg type 2\n",
      "score: 0.471875\n",
      "time: 6.432532787322998\n",
      "starting model training with learning_rate =  0.1 and num of iterations  300 reg factor 0.001 reg type 2\n",
      "score: 0.696875\n",
      "time: 5.977891206741333\n",
      "starting model training with learning_rate =  0.1 and num of iterations  300 reg factor 0.001 reg type 2\n",
      "score: 0.5109717868338558\n",
      "time: 5.936768054962158\n",
      "average score: 0.5846943573667711\n",
      "average time: 6.0814002513885494\n",
      "\n",
      "accuracy of learning rate 0.0001: \n",
      "starting model training with learning_rate =  0.1 and num of iterations  300 reg factor 0.0001 reg type 2\n",
      "score: 0.6125\n",
      "time: 5.796690225601196\n",
      "starting model training with learning_rate =  0.1 and num of iterations  300 reg factor 0.0001 reg type 2\n",
      "score: 0.4625\n",
      "time: 5.830109119415283\n",
      "starting model training with learning_rate =  0.1 and num of iterations  300 reg factor 0.0001 reg type 2\n",
      "score: 0.55625\n",
      "time: 5.913208961486816\n",
      "starting model training with learning_rate =  0.1 and num of iterations  300 reg factor 0.0001 reg type 2\n",
      "score: 0.415625\n",
      "time: 5.891387224197388\n",
      "starting model training with learning_rate =  0.1 and num of iterations  300 reg factor 0.0001 reg type 2\n",
      "score: 0.49843260188087773\n",
      "time: 5.917633771896362\n",
      "average score: 0.5090615203761756\n",
      "average time: 5.869805860519409\n",
      "\n"
     ]
    }
   ],
   "source": [
    "#do runtime measurements, 0.1 has a better accuarcy as shown above\n",
    "reg_factor = [1, 0.1, 0.01, 0.001, 0.0001]\n",
    "n_iter = 300\n",
    "learn = 0.1\n",
    "for factor in reg_factor:\n",
    "    print(\"accuracy of learning rate \" + str(factor) + \": \")\n",
    "    wine_custom_model = LR(learn, n_iter, factor, reg_type=2)\n",
    "    k_fold_validation(wine_X, wine_y, wine_custom_model,5)\n",
    "    print(\"\")\n"
   ]
  },
  {
   "cell_type": "markdown",
   "metadata": {},
   "source": [
    "#### so higher reg_factor improves accruacy, a 1 gave us an accuracy of 0.61, lets try with increased reg_factor"
   ]
  },
  {
   "cell_type": "code",
   "execution_count": 279,
   "metadata": {},
   "outputs": [
    {
     "name": "stdout",
     "output_type": "stream",
     "text": [
      "accuracy of learning rate 5: \n",
      "starting model training with learning_rate =  0.1 and num of iterations  300 reg factor 5 reg type 2\n",
      "score: 0.65\n",
      "time: 5.758153200149536\n",
      "starting model training with learning_rate =  0.1 and num of iterations  300 reg factor 5 reg type 2\n",
      "score: 0.44375\n",
      "time: 5.728413105010986\n",
      "starting model training with learning_rate =  0.1 and num of iterations  300 reg factor 5 reg type 2\n",
      "score: 0.6\n",
      "time: 5.892446994781494\n",
      "starting model training with learning_rate =  0.1 and num of iterations  300 reg factor 5 reg type 2\n",
      "score: 0.675\n",
      "time: 7.786763906478882\n",
      "starting model training with learning_rate =  0.1 and num of iterations  300 reg factor 5 reg type 2\n",
      "score: 0.5642633228840125\n",
      "time: 6.0666821002960205\n",
      "average score: 0.5866026645768025\n",
      "average time: 6.246491861343384\n",
      "\n",
      "accuracy of learning rate 4: \n",
      "starting model training with learning_rate =  0.1 and num of iterations  300 reg factor 4 reg type 2\n",
      "score: 0.678125\n",
      "time: 5.92648983001709\n",
      "starting model training with learning_rate =  0.1 and num of iterations  300 reg factor 4 reg type 2\n",
      "score: 0.584375\n",
      "time: 8.224282026290894\n",
      "starting model training with learning_rate =  0.1 and num of iterations  300 reg factor 4 reg type 2\n",
      "score: 0.615625\n",
      "time: 7.758110046386719\n",
      "starting model training with learning_rate =  0.1 and num of iterations  300 reg factor 4 reg type 2\n",
      "score: 0.303125\n",
      "time: 5.691058874130249\n",
      "starting model training with learning_rate =  0.1 and num of iterations  300 reg factor 4 reg type 2\n",
      "score: 0.5642633228840125\n",
      "time: 6.654510736465454\n",
      "average score: 0.5491026645768025\n",
      "average time: 6.850890302658081\n",
      "\n",
      "accuracy of learning rate 3: \n",
      "starting model training with learning_rate =  0.1 and num of iterations  300 reg factor 3 reg type 2\n",
      "score: 0.628125\n",
      "time: 9.869515180587769\n",
      "starting model training with learning_rate =  0.1 and num of iterations  300 reg factor 3 reg type 2\n",
      "score: 0.621875\n",
      "time: 6.584513902664185\n",
      "starting model training with learning_rate =  0.1 and num of iterations  300 reg factor 3 reg type 2\n",
      "score: 0.6\n",
      "time: 6.1268720626831055\n",
      "starting model training with learning_rate =  0.1 and num of iterations  300 reg factor 3 reg type 2\n",
      "score: 0.375\n",
      "time: 6.159616947174072\n",
      "starting model training with learning_rate =  0.1 and num of iterations  300 reg factor 3 reg type 2\n",
      "score: 0.5642633228840125\n",
      "time: 6.477509260177612\n",
      "average score: 0.5578526645768025\n",
      "average time: 7.043605470657349\n",
      "\n",
      "accuracy of learning rate 2: \n",
      "starting model training with learning_rate =  0.1 and num of iterations  300 reg factor 2 reg type 2\n",
      "score: 0.621875\n",
      "time: 6.497856855392456\n",
      "starting model training with learning_rate =  0.1 and num of iterations  300 reg factor 2 reg type 2\n",
      "score: 0.61875\n",
      "time: 6.027784824371338\n",
      "starting model training with learning_rate =  0.1 and num of iterations  300 reg factor 2 reg type 2\n",
      "score: 0.6\n",
      "time: 5.881963014602661\n",
      "starting model training with learning_rate =  0.1 and num of iterations  300 reg factor 2 reg type 2\n",
      "score: 0.675\n",
      "time: 5.8093860149383545\n",
      "starting model training with learning_rate =  0.1 and num of iterations  300 reg factor 2 reg type 2\n",
      "score: 0.5642633228840125\n",
      "time: 6.033386945724487\n",
      "average score: 0.6159776645768025\n",
      "average time: 6.050075531005859\n",
      "\n",
      "accuracy of learning rate 1: \n",
      "starting model training with learning_rate =  0.1 and num of iterations  300 reg factor 1 reg type 2\n",
      "score: 0.625\n",
      "time: 6.396950721740723\n",
      "starting model training with learning_rate =  0.1 and num of iterations  300 reg factor 1 reg type 2\n",
      "score: 0.61875\n",
      "time: 5.7910590171813965\n",
      "starting model training with learning_rate =  0.1 and num of iterations  300 reg factor 1 reg type 2\n",
      "score: 0.6\n",
      "time: 5.678029775619507\n",
      "starting model training with learning_rate =  0.1 and num of iterations  300 reg factor 1 reg type 2\n",
      "score: 0.675\n",
      "time: 6.063349008560181\n",
      "starting model training with learning_rate =  0.1 and num of iterations  300 reg factor 1 reg type 2\n",
      "score: 0.5642633228840125\n",
      "time: 6.046568870544434\n",
      "average score: 0.6166026645768025\n",
      "average time: 5.995191478729248\n",
      "\n"
     ]
    }
   ],
   "source": [
    "#do runtime measurements, 0.1 has a better accuarcy as shown above\n",
    "reg_factor = [5, 4, 3, 2, 1]\n",
    "n_iter = 300\n",
    "learn = 0.1\n",
    "for factor in reg_factor:\n",
    "    print(\"accuracy of learning rate \" + str(factor) + \": \")\n",
    "    wine_custom_model = LR(learn, n_iter, factor, reg_type=2)\n",
    "    k_fold_validation(wine_X, wine_y, wine_custom_model,5)\n",
    "    print(\"\")"
   ]
  },
  {
   "cell_type": "markdown",
   "metadata": {},
   "source": [
    "#### so then values decreased when we used a higher factor, best value so far is 1 with L2"
   ]
  },
  {
   "cell_type": "markdown",
   "metadata": {},
   "source": [
    "#### L1 Regularization"
   ]
  },
  {
   "cell_type": "code",
   "execution_count": 283,
   "metadata": {
    "scrolled": true
   },
   "outputs": [
    {
     "name": "stdout",
     "output_type": "stream",
     "text": [
      "accuracy of learning rate 1: \n",
      "starting model training with learning_rate =  0.1 and num of iterations  300 reg factor 1 reg type 1\n",
      "score: 0.390625\n",
      "time: 6.164261817932129\n",
      "starting model training with learning_rate =  0.1 and num of iterations  300 reg factor 1 reg type 1\n",
      "score: 0.44375\n",
      "time: 5.611676931381226\n",
      "starting model training with learning_rate =  0.1 and num of iterations  300 reg factor 1 reg type 1\n",
      "score: 0.596875\n",
      "time: 5.711230993270874\n",
      "starting model training with learning_rate =  0.1 and num of iterations  300 reg factor 1 reg type 1\n",
      "score: 0.696875\n",
      "time: 5.5657877922058105\n",
      "starting model training with learning_rate =  0.1 and num of iterations  300 reg factor 1 reg type 1\n",
      "score: 0.5642633228840125\n",
      "time: 5.712253093719482\n",
      "average score: 0.5384776645768025\n",
      "average time: 5.753042125701905\n",
      "\n",
      "accuracy of learning rate 0.1: \n",
      "starting model training with learning_rate =  0.1 and num of iterations  300 reg factor 0.1 reg type 1\n",
      "score: 0.6125\n",
      "time: 5.786595106124878\n",
      "starting model training with learning_rate =  0.1 and num of iterations  300 reg factor 0.1 reg type 1\n",
      "score: 0.44375\n",
      "time: 7.402585983276367\n",
      "starting model training with learning_rate =  0.1 and num of iterations  300 reg factor 0.1 reg type 1\n",
      "score: 0.61875\n",
      "time: 6.500631093978882\n",
      "starting model training with learning_rate =  0.1 and num of iterations  300 reg factor 0.1 reg type 1\n",
      "score: 0.696875\n",
      "time: 7.021723985671997\n",
      "starting model training with learning_rate =  0.1 and num of iterations  300 reg factor 0.1 reg type 1\n",
      "score: 0.5141065830721003\n",
      "time: 6.58264684677124\n",
      "average score: 0.5771963166144201\n",
      "average time: 6.658836603164673\n",
      "\n",
      "accuracy of learning rate 0.01: \n",
      "starting model training with learning_rate =  0.1 and num of iterations  300 reg factor 0.01 reg type 1\n",
      "score: 0.6125\n",
      "time: 5.704232931137085\n",
      "starting model training with learning_rate =  0.1 and num of iterations  300 reg factor 0.01 reg type 1\n",
      "score: 0.3875\n",
      "time: 5.619469165802002\n",
      "starting model training with learning_rate =  0.1 and num of iterations  300 reg factor 0.01 reg type 1\n",
      "score: 0.61875\n",
      "time: 5.76983118057251\n",
      "starting model training with learning_rate =  0.1 and num of iterations  300 reg factor 0.01 reg type 1\n",
      "score: 0.696875\n",
      "time: 5.566967964172363\n",
      "starting model training with learning_rate =  0.1 and num of iterations  300 reg factor 0.01 reg type 1\n",
      "score: 0.5141065830721003\n",
      "time: 5.516155958175659\n",
      "average score: 0.5659463166144201\n",
      "average time: 5.635331439971924\n",
      "\n",
      "accuracy of learning rate 0.001: \n",
      "starting model training with learning_rate =  0.1 and num of iterations  300 reg factor 0.001 reg type 1\n",
      "score: 0.6125\n",
      "time: 5.803530931472778\n",
      "starting model training with learning_rate =  0.1 and num of iterations  300 reg factor 0.001 reg type 1\n",
      "score: 0.3875\n",
      "time: 5.643656253814697\n",
      "starting model training with learning_rate =  0.1 and num of iterations  300 reg factor 0.001 reg type 1\n",
      "score: 0.61875\n",
      "time: 5.979355096817017\n",
      "starting model training with learning_rate =  0.1 and num of iterations  300 reg factor 0.001 reg type 1\n",
      "score: 0.696875\n",
      "time: 5.903028964996338\n",
      "starting model training with learning_rate =  0.1 and num of iterations  300 reg factor 0.001 reg type 1\n",
      "score: 0.5141065830721003\n",
      "time: 5.7374351024627686\n",
      "average score: 0.5659463166144201\n",
      "average time: 5.8134012699127195\n",
      "\n",
      "accuracy of learning rate 0.0001: \n",
      "starting model training with learning_rate =  0.1 and num of iterations  300 reg factor 0.0001 reg type 1\n",
      "score: 0.6125\n",
      "time: 5.643316030502319\n",
      "starting model training with learning_rate =  0.1 and num of iterations  300 reg factor 0.0001 reg type 1\n",
      "score: 0.3875\n",
      "time: 5.6158201694488525\n",
      "starting model training with learning_rate =  0.1 and num of iterations  300 reg factor 0.0001 reg type 1\n",
      "score: 0.61875\n",
      "time: 5.7838969230651855\n",
      "starting model training with learning_rate =  0.1 and num of iterations  300 reg factor 0.0001 reg type 1\n",
      "score: 0.696875\n",
      "time: 5.6853039264678955\n",
      "starting model training with learning_rate =  0.1 and num of iterations  300 reg factor 0.0001 reg type 1\n",
      "score: 0.5141065830721003\n",
      "time: 5.832237958908081\n",
      "average score: 0.5659463166144201\n",
      "average time: 5.712115001678467\n",
      "\n"
     ]
    }
   ],
   "source": [
    "#do runtime measurements, 0.1 has a better accuarcy as shown above\n",
    "reg_factor = [1, 0.1, 0.01, 0.001, 0.0001]\n",
    "n_iter = 300\n",
    "learn = 0.1\n",
    "for factor in reg_factor:\n",
    "    print(\"accuracy of learning rate \" + str(factor) + \": \")\n",
    "    wine_custom_model = LR(learn, n_iter, factor, reg_type=1)\n",
    "    k_fold_validation(wine_X, wine_y, wine_custom_model,5)\n",
    "    print(\"\")"
   ]
  },
  {
   "cell_type": "markdown",
   "metadata": {},
   "source": [
    "##### no significant improvement with L1"
   ]
  },
  {
   "cell_type": "code",
   "execution_count": 284,
   "metadata": {},
   "outputs": [
    {
     "name": "stdout",
     "output_type": "stream",
     "text": [
      "accuracy of learning rate 5: \n",
      "starting model training with learning_rate =  0.1 and num of iterations  300 reg factor 5 reg type 1\n",
      "score: 0.390625\n",
      "time: 6.033698081970215\n",
      "starting model training with learning_rate =  0.1 and num of iterations  300 reg factor 5 reg type 1\n",
      "score: 0.459375\n",
      "time: 5.899637937545776\n",
      "starting model training with learning_rate =  0.1 and num of iterations  300 reg factor 5 reg type 1\n",
      "score: 0.565625\n",
      "time: 5.787629127502441\n",
      "starting model training with learning_rate =  0.1 and num of iterations  300 reg factor 5 reg type 1\n",
      "score: 0.678125\n",
      "time: 5.81407904624939\n",
      "starting model training with learning_rate =  0.1 and num of iterations  300 reg factor 5 reg type 1\n",
      "score: 0.5015673981191222\n",
      "time: 5.838652849197388\n",
      "average score: 0.5190634796238245\n",
      "average time: 5.874739408493042\n",
      "\n",
      "accuracy of learning rate 4: \n",
      "starting model training with learning_rate =  0.1 and num of iterations  300 reg factor 4 reg type 1\n",
      "score: 0.590625\n",
      "time: 5.849004030227661\n",
      "starting model training with learning_rate =  0.1 and num of iterations  300 reg factor 4 reg type 1\n",
      "score: 0.646875\n",
      "time: 5.897963047027588\n",
      "starting model training with learning_rate =  0.1 and num of iterations  300 reg factor 4 reg type 1\n",
      "score: 0.471875\n",
      "time: 5.9210381507873535\n",
      "starting model training with learning_rate =  0.1 and num of iterations  300 reg factor 4 reg type 1\n",
      "score: 0.415625\n",
      "time: 5.680545091629028\n",
      "starting model training with learning_rate =  0.1 and num of iterations  300 reg factor 4 reg type 1\n",
      "score: 0.4952978056426332\n",
      "time: 6.099347114562988\n",
      "average score: 0.5240595611285266\n",
      "average time: 5.889579486846924\n",
      "\n",
      "accuracy of learning rate 3: \n",
      "starting model training with learning_rate =  0.1 and num of iterations  300 reg factor 3 reg type 1\n",
      "score: 0.59375\n",
      "time: 6.043474912643433\n",
      "starting model training with learning_rate =  0.1 and num of iterations  300 reg factor 3 reg type 1\n",
      "score: 0.3875\n",
      "time: 5.996384859085083\n",
      "starting model training with learning_rate =  0.1 and num of iterations  300 reg factor 3 reg type 1\n",
      "score: 0.6\n",
      "time: 5.963183164596558\n",
      "starting model training with learning_rate =  0.1 and num of iterations  300 reg factor 3 reg type 1\n",
      "score: 0.696875\n",
      "time: 5.616187810897827\n",
      "starting model training with learning_rate =  0.1 and num of iterations  300 reg factor 3 reg type 1\n",
      "score: 0.49843260188087773\n",
      "time: 5.687199831008911\n",
      "average score: 0.5553115203761756\n",
      "average time: 5.8612861156463625\n",
      "\n",
      "accuracy of learning rate 2: \n",
      "starting model training with learning_rate =  0.1 and num of iterations  300 reg factor 2 reg type 1\n",
      "score: 0.390625\n",
      "time: 5.891398906707764\n",
      "starting model training with learning_rate =  0.1 and num of iterations  300 reg factor 2 reg type 1\n",
      "score: 0.45625\n",
      "time: 5.828498125076294\n",
      "starting model training with learning_rate =  0.1 and num of iterations  300 reg factor 2 reg type 1\n",
      "score: 0.609375\n",
      "time: 5.905694961547852\n",
      "starting model training with learning_rate =  0.1 and num of iterations  300 reg factor 2 reg type 1\n",
      "score: 0.696875\n",
      "time: 6.534257173538208\n",
      "starting model training with learning_rate =  0.1 and num of iterations  300 reg factor 2 reg type 1\n",
      "score: 0.49843260188087773\n",
      "time: 5.736661195755005\n",
      "average score: 0.5303115203761756\n",
      "average time: 5.979302072525025\n",
      "\n",
      "accuracy of learning rate 1: \n",
      "starting model training with learning_rate =  0.1 and num of iterations  300 reg factor 1 reg type 1\n",
      "score: 0.390625\n",
      "time: 5.710631847381592\n",
      "starting model training with learning_rate =  0.1 and num of iterations  300 reg factor 1 reg type 1\n",
      "score: 0.44375\n",
      "time: 5.721395015716553\n",
      "starting model training with learning_rate =  0.1 and num of iterations  300 reg factor 1 reg type 1\n",
      "score: 0.596875\n",
      "time: 5.9284281730651855\n",
      "starting model training with learning_rate =  0.1 and num of iterations  300 reg factor 1 reg type 1\n",
      "score: 0.696875\n",
      "time: 5.666723012924194\n",
      "starting model training with learning_rate =  0.1 and num of iterations  300 reg factor 1 reg type 1\n",
      "score: 0.5642633228840125\n",
      "time: 5.673713207244873\n",
      "average score: 0.5384776645768025\n",
      "average time: 5.74017825126648\n",
      "\n"
     ]
    }
   ],
   "source": [
    "#do runtime measurements, 0.1 has a better accuarcy as shown above\n",
    "reg_factor = [5, 4, 3, 2, 1]\n",
    "n_iter = 300\n",
    "learn = 0.1\n",
    "for factor in reg_factor:\n",
    "    print(\"accuracy of learning rate \" + str(factor) + \": \")\n",
    "    wine_custom_model = LR(learn, n_iter, factor, reg_type=1)\n",
    "    k_fold_validation(wine_X, wine_y, wine_custom_model,5)\n",
    "    print(\"\")"
   ]
  },
  {
   "cell_type": "markdown",
   "metadata": {},
   "source": [
    "##### no significant improvement with L1"
   ]
  },
  {
   "cell_type": "markdown",
   "metadata": {},
   "source": [
    "# final test LR with best params for wine data"
   ]
  },
  {
   "cell_type": "code",
   "execution_count": 308,
   "metadata": {},
   "outputs": [
    {
     "name": "stdout",
     "output_type": "stream",
     "text": [
      "starting model training with learning_rate =  0.1 and num of iterations  300 reg factor 1 reg type 2\n",
      "score: 0.625\n",
      "time: 5.760757923126221\n",
      "starting model training with learning_rate =  0.1 and num of iterations  300 reg factor 1 reg type 2\n",
      "score: 0.61875\n",
      "time: 5.623934030532837\n",
      "starting model training with learning_rate =  0.1 and num of iterations  300 reg factor 1 reg type 2\n",
      "score: 0.6\n",
      "time: 5.658431053161621\n",
      "starting model training with learning_rate =  0.1 and num of iterations  300 reg factor 1 reg type 2\n",
      "score: 0.675\n",
      "time: 5.607038974761963\n",
      "starting model training with learning_rate =  0.1 and num of iterations  300 reg factor 1 reg type 2\n",
      "score: 0.5642633228840125\n",
      "time: 5.847299814224243\n",
      "average score: 0.6166026645768025\n",
      "average time: 5.699492359161377\n"
     ]
    },
    {
     "data": {
      "text/plain": [
       "0.6166026645768025"
      ]
     },
     "execution_count": 308,
     "metadata": {},
     "output_type": "execute_result"
    }
   ],
   "source": [
    "learnrate, max_iter = 0.1, 300\n",
    "wine_custom_model = LR( learnrate, max_iter, reg_factor=1, reg_type=2)\n",
    "k_fold_validation(wine_X, wine_y, wine_custom_model,5)"
   ]
  },
  {
   "cell_type": "code",
   "execution_count": null,
   "metadata": {},
   "outputs": [],
   "source": []
  }
 ],
 "metadata": {
  "kernelspec": {
   "display_name": "Python 3",
   "language": "python",
   "name": "python3"
  },
  "language_info": {
   "codemirror_mode": {
    "name": "ipython",
    "version": 3
   },
   "file_extension": ".py",
   "mimetype": "text/x-python",
   "name": "python",
   "nbconvert_exporter": "python",
   "pygments_lexer": "ipython3",
   "version": "3.7.3"
  }
 },
 "nbformat": 4,
 "nbformat_minor": 2
}
