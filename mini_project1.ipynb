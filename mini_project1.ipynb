{
 "cells": [
  {
   "cell_type": "markdown",
   "metadata": {},
   "source": [
    "## TASK1"
   ]
  },
  {
   "cell_type": "code",
   "execution_count": 1,
   "metadata": {},
   "outputs": [],
   "source": [
    "import numpy as np\n",
    "import pandas as pd\n",
    "from matplotlib import pyplot as pt\n",
    "from sklearn.model_selection import train_test_split\n",
    "from models.five_fold_validation import k_fold_validation"
   ]
  },
  {
   "cell_type": "code",
   "execution_count": 2,
   "metadata": {},
   "outputs": [],
   "source": [
    "wine = pd.read_csv(\"data/winequality/winequality-red.csv\", sep=\";\")"
   ]
  },
  {
   "cell_type": "code",
   "execution_count": 3,
   "metadata": {},
   "outputs": [
    {
     "data": {
      "text/html": [
       "<div>\n",
       "<style scoped>\n",
       "    .dataframe tbody tr th:only-of-type {\n",
       "        vertical-align: middle;\n",
       "    }\n",
       "\n",
       "    .dataframe tbody tr th {\n",
       "        vertical-align: top;\n",
       "    }\n",
       "\n",
       "    .dataframe thead th {\n",
       "        text-align: right;\n",
       "    }\n",
       "</style>\n",
       "<table border=\"1\" class=\"dataframe\">\n",
       "  <thead>\n",
       "    <tr style=\"text-align: right;\">\n",
       "      <th></th>\n",
       "      <th>fixed acidity</th>\n",
       "      <th>volatile acidity</th>\n",
       "      <th>citric acid</th>\n",
       "      <th>residual sugar</th>\n",
       "      <th>chlorides</th>\n",
       "      <th>free sulfur dioxide</th>\n",
       "      <th>total sulfur dioxide</th>\n",
       "      <th>density</th>\n",
       "      <th>pH</th>\n",
       "      <th>sulphates</th>\n",
       "      <th>alcohol</th>\n",
       "      <th>quality</th>\n",
       "      <th>classified</th>\n",
       "    </tr>\n",
       "  </thead>\n",
       "  <tbody>\n",
       "    <tr>\n",
       "      <td>0</td>\n",
       "      <td>7.4</td>\n",
       "      <td>0.700</td>\n",
       "      <td>0.00</td>\n",
       "      <td>1.9</td>\n",
       "      <td>0.076</td>\n",
       "      <td>11.0</td>\n",
       "      <td>34.0</td>\n",
       "      <td>0.99780</td>\n",
       "      <td>3.51</td>\n",
       "      <td>0.56</td>\n",
       "      <td>9.4</td>\n",
       "      <td>5</td>\n",
       "      <td>0</td>\n",
       "    </tr>\n",
       "    <tr>\n",
       "      <td>1</td>\n",
       "      <td>7.8</td>\n",
       "      <td>0.880</td>\n",
       "      <td>0.00</td>\n",
       "      <td>2.6</td>\n",
       "      <td>0.098</td>\n",
       "      <td>25.0</td>\n",
       "      <td>67.0</td>\n",
       "      <td>0.99680</td>\n",
       "      <td>3.20</td>\n",
       "      <td>0.68</td>\n",
       "      <td>9.8</td>\n",
       "      <td>5</td>\n",
       "      <td>0</td>\n",
       "    </tr>\n",
       "    <tr>\n",
       "      <td>2</td>\n",
       "      <td>7.8</td>\n",
       "      <td>0.760</td>\n",
       "      <td>0.04</td>\n",
       "      <td>2.3</td>\n",
       "      <td>0.092</td>\n",
       "      <td>15.0</td>\n",
       "      <td>54.0</td>\n",
       "      <td>0.99700</td>\n",
       "      <td>3.26</td>\n",
       "      <td>0.65</td>\n",
       "      <td>9.8</td>\n",
       "      <td>5</td>\n",
       "      <td>0</td>\n",
       "    </tr>\n",
       "    <tr>\n",
       "      <td>3</td>\n",
       "      <td>11.2</td>\n",
       "      <td>0.280</td>\n",
       "      <td>0.56</td>\n",
       "      <td>1.9</td>\n",
       "      <td>0.075</td>\n",
       "      <td>17.0</td>\n",
       "      <td>60.0</td>\n",
       "      <td>0.99800</td>\n",
       "      <td>3.16</td>\n",
       "      <td>0.58</td>\n",
       "      <td>9.8</td>\n",
       "      <td>6</td>\n",
       "      <td>1</td>\n",
       "    </tr>\n",
       "    <tr>\n",
       "      <td>4</td>\n",
       "      <td>7.4</td>\n",
       "      <td>0.700</td>\n",
       "      <td>0.00</td>\n",
       "      <td>1.9</td>\n",
       "      <td>0.076</td>\n",
       "      <td>11.0</td>\n",
       "      <td>34.0</td>\n",
       "      <td>0.99780</td>\n",
       "      <td>3.51</td>\n",
       "      <td>0.56</td>\n",
       "      <td>9.4</td>\n",
       "      <td>5</td>\n",
       "      <td>0</td>\n",
       "    </tr>\n",
       "    <tr>\n",
       "      <td>...</td>\n",
       "      <td>...</td>\n",
       "      <td>...</td>\n",
       "      <td>...</td>\n",
       "      <td>...</td>\n",
       "      <td>...</td>\n",
       "      <td>...</td>\n",
       "      <td>...</td>\n",
       "      <td>...</td>\n",
       "      <td>...</td>\n",
       "      <td>...</td>\n",
       "      <td>...</td>\n",
       "      <td>...</td>\n",
       "      <td>...</td>\n",
       "    </tr>\n",
       "    <tr>\n",
       "      <td>1594</td>\n",
       "      <td>6.2</td>\n",
       "      <td>0.600</td>\n",
       "      <td>0.08</td>\n",
       "      <td>2.0</td>\n",
       "      <td>0.090</td>\n",
       "      <td>32.0</td>\n",
       "      <td>44.0</td>\n",
       "      <td>0.99490</td>\n",
       "      <td>3.45</td>\n",
       "      <td>0.58</td>\n",
       "      <td>10.5</td>\n",
       "      <td>5</td>\n",
       "      <td>0</td>\n",
       "    </tr>\n",
       "    <tr>\n",
       "      <td>1595</td>\n",
       "      <td>5.9</td>\n",
       "      <td>0.550</td>\n",
       "      <td>0.10</td>\n",
       "      <td>2.2</td>\n",
       "      <td>0.062</td>\n",
       "      <td>39.0</td>\n",
       "      <td>51.0</td>\n",
       "      <td>0.99512</td>\n",
       "      <td>3.52</td>\n",
       "      <td>0.76</td>\n",
       "      <td>11.2</td>\n",
       "      <td>6</td>\n",
       "      <td>1</td>\n",
       "    </tr>\n",
       "    <tr>\n",
       "      <td>1596</td>\n",
       "      <td>6.3</td>\n",
       "      <td>0.510</td>\n",
       "      <td>0.13</td>\n",
       "      <td>2.3</td>\n",
       "      <td>0.076</td>\n",
       "      <td>29.0</td>\n",
       "      <td>40.0</td>\n",
       "      <td>0.99574</td>\n",
       "      <td>3.42</td>\n",
       "      <td>0.75</td>\n",
       "      <td>11.0</td>\n",
       "      <td>6</td>\n",
       "      <td>1</td>\n",
       "    </tr>\n",
       "    <tr>\n",
       "      <td>1597</td>\n",
       "      <td>5.9</td>\n",
       "      <td>0.645</td>\n",
       "      <td>0.12</td>\n",
       "      <td>2.0</td>\n",
       "      <td>0.075</td>\n",
       "      <td>32.0</td>\n",
       "      <td>44.0</td>\n",
       "      <td>0.99547</td>\n",
       "      <td>3.57</td>\n",
       "      <td>0.71</td>\n",
       "      <td>10.2</td>\n",
       "      <td>5</td>\n",
       "      <td>0</td>\n",
       "    </tr>\n",
       "    <tr>\n",
       "      <td>1598</td>\n",
       "      <td>6.0</td>\n",
       "      <td>0.310</td>\n",
       "      <td>0.47</td>\n",
       "      <td>3.6</td>\n",
       "      <td>0.067</td>\n",
       "      <td>18.0</td>\n",
       "      <td>42.0</td>\n",
       "      <td>0.99549</td>\n",
       "      <td>3.39</td>\n",
       "      <td>0.66</td>\n",
       "      <td>11.0</td>\n",
       "      <td>6</td>\n",
       "      <td>1</td>\n",
       "    </tr>\n",
       "  </tbody>\n",
       "</table>\n",
       "<p>1599 rows × 13 columns</p>\n",
       "</div>"
      ],
      "text/plain": [
       "      fixed acidity  volatile acidity  citric acid  residual sugar  chlorides  \\\n",
       "0               7.4             0.700         0.00             1.9      0.076   \n",
       "1               7.8             0.880         0.00             2.6      0.098   \n",
       "2               7.8             0.760         0.04             2.3      0.092   \n",
       "3              11.2             0.280         0.56             1.9      0.075   \n",
       "4               7.4             0.700         0.00             1.9      0.076   \n",
       "...             ...               ...          ...             ...        ...   \n",
       "1594            6.2             0.600         0.08             2.0      0.090   \n",
       "1595            5.9             0.550         0.10             2.2      0.062   \n",
       "1596            6.3             0.510         0.13             2.3      0.076   \n",
       "1597            5.9             0.645         0.12             2.0      0.075   \n",
       "1598            6.0             0.310         0.47             3.6      0.067   \n",
       "\n",
       "      free sulfur dioxide  total sulfur dioxide  density    pH  sulphates  \\\n",
       "0                    11.0                  34.0  0.99780  3.51       0.56   \n",
       "1                    25.0                  67.0  0.99680  3.20       0.68   \n",
       "2                    15.0                  54.0  0.99700  3.26       0.65   \n",
       "3                    17.0                  60.0  0.99800  3.16       0.58   \n",
       "4                    11.0                  34.0  0.99780  3.51       0.56   \n",
       "...                   ...                   ...      ...   ...        ...   \n",
       "1594                 32.0                  44.0  0.99490  3.45       0.58   \n",
       "1595                 39.0                  51.0  0.99512  3.52       0.76   \n",
       "1596                 29.0                  40.0  0.99574  3.42       0.75   \n",
       "1597                 32.0                  44.0  0.99547  3.57       0.71   \n",
       "1598                 18.0                  42.0  0.99549  3.39       0.66   \n",
       "\n",
       "      alcohol  quality  classified  \n",
       "0         9.4        5           0  \n",
       "1         9.8        5           0  \n",
       "2         9.8        5           0  \n",
       "3         9.8        6           1  \n",
       "4         9.4        5           0  \n",
       "...       ...      ...         ...  \n",
       "1594     10.5        5           0  \n",
       "1595     11.2        6           1  \n",
       "1596     11.0        6           1  \n",
       "1597     10.2        5           0  \n",
       "1598     11.0        6           1  \n",
       "\n",
       "[1599 rows x 13 columns]"
      ]
     },
     "execution_count": 3,
     "metadata": {},
     "output_type": "execute_result"
    }
   ],
   "source": [
    "wine['classified']=[1 if x>=6 else 0 for x in wine[\"quality\"] ]\n",
    "wine"
   ]
  },
  {
   "cell_type": "code",
   "execution_count": 4,
   "metadata": {},
   "outputs": [],
   "source": [
    "cancer = pd.read_csv(\"data/breastcancer/breast-cancer-wisconsin.data\", delimiter=\",\")\n",
    "\n",
    "# remove entries where cancer.bare_nuclie == ? and convert the column to int\n",
    "cancer = cancer[cancer.bare_nuclei != \"?\"]\n",
    "cancer.bare_nuclei = pd.to_numeric(cancer.bare_nuclei)"
   ]
  },
  {
   "cell_type": "code",
   "execution_count": 5,
   "metadata": {},
   "outputs": [],
   "source": [
    "cancer['classified'] = [1 if x == 4 else 0 for x in cancer[\"class\"]]"
   ]
  },
  {
   "cell_type": "code",
   "execution_count": 6,
   "metadata": {},
   "outputs": [],
   "source": [
    "wine_X = np.array(wine[['fixed acidity', 'volatile acidity', 'citric acid', 'residual sugar',\n",
    "       'chlorides', 'free sulfur dioxide', 'total sulfur dioxide', 'density',\n",
    "       'pH', 'sulphates', 'alcohol']])\n",
    "wine_y = np.array(wine[['classified']])"
   ]
  },
  {
   "cell_type": "code",
   "execution_count": 7,
   "metadata": {},
   "outputs": [],
   "source": [
    "cancer_X = np.array(cancer[['thickness', 'cell_size', 'cell_shape', 'adhesion', 'e_cell_size',\n",
    "       'bare_nuclei', 'chromatin', 'nucleoli', 'mitosis']])\n",
    "cancer_y = np.array(cancer[[\"classified\"]])"
   ]
  },
  {
   "cell_type": "markdown",
   "metadata": {},
   "source": [
    "## TASK 2"
   ]
  },
  {
   "cell_type": "markdown",
   "metadata": {},
   "source": [
    "#### Logistic Regression"
   ]
  },
  {
   "cell_type": "code",
   "execution_count": 8,
   "metadata": {},
   "outputs": [],
   "source": [
    "# built in LR from sklearn"
   ]
  },
  {
   "cell_type": "code",
   "execution_count": 9,
   "metadata": {},
   "outputs": [],
   "source": [
    "from sklearn.linear_model import LogisticRegression"
   ]
  },
  {
   "cell_type": "code",
   "execution_count": 10,
   "metadata": {},
   "outputs": [
    {
     "data": {
      "text/plain": [
       "0.690625"
      ]
     },
     "execution_count": 10,
     "metadata": {},
     "output_type": "execute_result"
    }
   ],
   "source": [
    "wine_model=LogisticRegression(solver=\"lbfgs\", max_iter=1000)\n",
    "k_fold_validation(wine_X, wine_y.reshape(len(wine_y),), wine_model,5)"
   ]
  },
  {
   "cell_type": "code",
   "execution_count": 11,
   "metadata": {},
   "outputs": [
    {
     "data": {
      "text/plain": [
       "0.9343065693430657"
      ]
     },
     "execution_count": 11,
     "metadata": {},
     "output_type": "execute_result"
    }
   ],
   "source": [
    "cancer_model=LogisticRegression(solver=\"lbfgs\", max_iter=1000)\n",
    "k_fold_validation(cancer_X, cancer_y.reshape(len(cancer_y),), cancer_model,5)"
   ]
  },
  {
   "cell_type": "code",
   "execution_count": 12,
   "metadata": {},
   "outputs": [],
   "source": [
    "# custom LR"
   ]
  },
  {
   "cell_type": "code",
   "execution_count": 13,
   "metadata": {},
   "outputs": [],
   "source": [
    "from models.logistic_regression import LogisticRegression as LR"
   ]
  },
  {
   "cell_type": "code",
   "execution_count": 14,
   "metadata": {},
   "outputs": [
    {
     "data": {
      "text/plain": [
       "array([0.321875])"
      ]
     },
     "execution_count": 14,
     "metadata": {},
     "output_type": "execute_result"
    }
   ],
   "source": [
    "learnrate, max_iter = 0.0001, 1000\n",
    "wine_custom_model = LR( learnrate, max_iter)\n",
    "k_fold_validation(wine_X, wine_y, wine_custom_model,5)"
   ]
  },
  {
   "cell_type": "code",
   "execution_count": 15,
   "metadata": {},
   "outputs": [
    {
     "data": {
      "text/plain": [
       "array([0.79562044])"
      ]
     },
     "execution_count": 15,
     "metadata": {},
     "output_type": "execute_result"
    }
   ],
   "source": [
    "cancer_custom_model = LR(learnrate, max_iter)\n",
    "k_fold_validation(cancer_X, cancer_y, cancer_custom_model, 5)"
   ]
  },
  {
   "cell_type": "markdown",
   "metadata": {},
   "source": [
    "#### Linear Discriminant Analysis"
   ]
  },
  {
   "cell_type": "code",
   "execution_count": 85,
   "metadata": {},
   "outputs": [],
   "source": [
    "from sklearn.discriminant_analysis import LinearDiscriminantAnalysis"
   ]
  },
  {
   "cell_type": "code",
   "execution_count": 86,
   "metadata": {},
   "outputs": [
    {
     "data": {
      "text/plain": [
       "0.69375"
      ]
     },
     "execution_count": 86,
     "metadata": {},
     "output_type": "execute_result"
    }
   ],
   "source": [
    "wine_model = LinearDiscriminantAnalysis()\n",
    "k_fold_validation(wine_X, wine_y.reshape(len(wine_y),), wine_model,5)"
   ]
  },
  {
   "cell_type": "code",
   "execution_count": 87,
   "metadata": {},
   "outputs": [
    {
     "data": {
      "text/plain": [
       "0.8905109489051095"
      ]
     },
     "execution_count": 87,
     "metadata": {},
     "output_type": "execute_result"
    }
   ],
   "source": [
    "cancer_model = LinearDiscriminantAnalysis()\n",
    "k_fold_validation(cancer_X, cancer_y.reshape(len(cancer_y),), cancer_model,5)"
   ]
  },
  {
   "cell_type": "code",
   "execution_count": 88,
   "metadata": {},
   "outputs": [],
   "source": [
    "from models.linear_discriminant_analysis import LearnDiscriminantAnalysis as LDA"
   ]
  },
  {
   "cell_type": "code",
   "execution_count": 89,
   "metadata": {},
   "outputs": [
    {
     "data": {
      "text/plain": [
       "array([0.69375])"
      ]
     },
     "execution_count": 89,
     "metadata": {},
     "output_type": "execute_result"
    }
   ],
   "source": [
    "wine_custom_lda = LDA()\n",
    "k_fold_validation(wine_X, wine_y, wine_custom_lda,5)"
   ]
  },
  {
   "cell_type": "code",
   "execution_count": 90,
   "metadata": {},
   "outputs": [
    {
     "data": {
      "text/plain": [
       "array([0.89051095])"
      ]
     },
     "execution_count": 90,
     "metadata": {},
     "output_type": "execute_result"
    }
   ],
   "source": [
    "cancer_custom_model = LDA()\n",
    "k_fold_validation(cancer_X, cancer_y, cancer_custom_model, 5)"
   ]
  },
  {
   "cell_type": "markdown",
   "metadata": {},
   "source": [
    "## TASK 3"
   ]
  },
  {
   "cell_type": "code",
   "execution_count": 94,
   "metadata": {},
   "outputs": [],
   "source": [
    "#do runtime measurements\n",
    "lr = [0.1, 0.01, 0.001, 0.0001, 0.00001]\n",
    "n_iter = 300"
   ]
  },
  {
   "cell_type": "code",
   "execution_count": 96,
   "metadata": {},
   "outputs": [
    {
     "name": "stdout",
     "output_type": "stream",
     "text": [
      "Model Trained with params [  -81.41164614 -1278.87633125   659.17546804  -370.36087741\n",
      "   -81.03362504  3962.97509646 -3503.1344365   -349.73833589\n",
      " -1273.77059922   713.84308198  3101.61930208]\n",
      "Model Trained with params [ -764.27980944 -1154.84359609   459.99702224  -299.46869531\n",
      "  -119.39094312  4971.31261907 -1254.483898    -263.05015047\n",
      "  -881.86295813   551.72624194  3839.83943801]\n",
      "Model Trained with params [ 1034.37667684 -1157.00227092   524.18427467  -147.43197824\n",
      "  -117.79998809  4695.89954972 -1242.31039978  -271.48083872\n",
      "  -972.58673939   693.88560451  3662.2212854 ]\n",
      "Model Trained with params [  607.72055329 -1019.37893418   521.13944363   538.97083147\n",
      "   -70.09071699  3214.29087712  -424.08063382  -270.94410527\n",
      "  -934.26677903   608.9109946   3090.11170456]\n",
      "Model Trained with params [  956.78431395 -1105.61965501   543.60972859  -482.48434405\n",
      "  -103.08604612  4740.34880695 -1269.62033882  -274.0943443\n",
      " -1026.40818715   587.0352352   3606.10156926]\n",
      "[0.509375]\n",
      "Model Trained with params [  -8.15058214 -127.88617281   65.88083847  -37.02930062   -8.10505249\n",
      "  396.10565868 -350.40512989  -34.99145678 -127.45255832   71.36269738\n",
      "  309.80443977]\n",
      "Model Trained with params [ -77.36733303 -115.47240459   45.8433004   -30.84271584  -11.98124388\n",
      "  496.62583387 -124.22097362  -26.32329225  -88.05741383   55.27411376\n",
      "  384.22776571]\n",
      "Model Trained with params [ 103.00700687 -115.82811406   52.43912944  -15.80483409  -11.7882986\n",
      "  468.94525286 -123.2125798   -27.19681363  -97.48956695   69.2193927\n",
      "  366.14689124]\n",
      "Model Trained with params [  45.62736673 -102.43564009   51.53646201   49.7082831    -7.21139706\n",
      "  291.96124445 -156.02455617  -28.7522326   -98.73632021   59.52609349\n",
      "  293.88655736]\n",
      "Model Trained with params [  95.03584791 -110.50468418   54.30893106  -48.00153636  -10.3131273\n",
      "  475.09116131 -127.42762525  -27.34104728 -102.38406109   58.68739805\n",
      "  361.67240379]\n",
      "[0.50625]\n",
      "Model Trained with params [ -0.84912636 -12.79176627   6.59315693  -3.7077318   -0.81069342\n",
      "  39.66016961 -35.02690794  -3.50024988 -12.74829984   7.13592982\n",
      "  30.99946764]\n",
      "Model Trained with params [-11.76527003 -11.7991205    4.45754361  -4.26171363  -1.24079507\n",
      "  41.10178655 -35.72027275  -3.12986095 -10.47314541   5.19231863\n",
      "  33.20570916]\n",
      "Model Trained with params [ 10.29301279 -11.58876368   5.24798787  -1.55979299  -1.17957609\n",
      "  46.86278987 -12.31483896  -2.71918644  -9.74444545   6.92182141\n",
      "  36.61685955]\n",
      "Model Trained with params [ -0.24444173 -10.54277848   5.00377568   3.63628098  -0.77041922\n",
      "  19.30683359 -38.29494746  -3.43689255 -11.74310004   5.59512786\n",
      "  23.65470439]\n",
      "Model Trained with params [  9.50360688 -11.05555686   5.43369216  -4.85393785  -1.03265092\n",
      "  47.31138542 -12.61190967  -2.74980559 -10.29497941   5.86681596\n",
      "  35.97254428]\n",
      "[0.315625]\n",
      "Model Trained with params [-0.10388488 -1.27327207  0.6575961  -0.35445202 -0.08098416  3.92504106\n",
      " -3.50546635 -0.34485389 -1.25561992  0.719893    3.17852371]\n",
      "Model Trained with params [-1.16744499 -1.18572979  0.44930559 -0.43514196 -0.12399607  4.09250012\n",
      " -3.57404447 -0.31380409 -1.0515398   0.52375624  3.3362521 ]\n",
      "Model Trained with params [ 1.05861159 -1.15356621  0.52502335 -0.15516242 -0.11731818  4.68306215\n",
      " -1.24496319 -0.26956046 -0.96786862  0.69363261  3.6810689 ]\n",
      "Model Trained with params [ 0.09429849 -1.04832946  0.50535563  0.39665972 -0.07478355  2.25939189\n",
      " -2.23805722 -0.33028142 -1.13097737  0.56809142  2.48330728]\n",
      "Model Trained with params [ 0.93931627 -1.10392885  0.54178935 -0.4935054  -0.10314055  4.73675096\n",
      " -1.26702495 -0.27393223 -1.02440999  0.58591559  3.59869497]\n",
      "[0.39375]\n",
      "Model Trained with params [-0.06120946 -0.12175199  0.06066942 -0.02331109 -0.00849767  0.35545311\n",
      " -0.33483025 -0.03309162 -0.11761034  0.06867413  0.36130526]\n",
      "Model Trained with params [-0.07580483 -0.1185541   0.04861242 -0.02820313 -0.01174192  0.45816118\n",
      " -0.11645502 -0.02788377 -0.09417594  0.0518959   0.38651938]\n",
      "Model Trained with params [ 0.07680526 -0.11097183  0.04924152 -0.0151871  -0.01141958  0.42474459\n",
      " -0.11674784 -0.02490487 -0.08808639  0.06445624  0.40176418]\n",
      "Model Trained with params [ 0.04108244 -0.1022176   0.05116142  0.04511372 -0.00720279  0.23089832\n",
      " -0.08793517 -0.02919785 -0.10068117  0.05849813  0.281363  ]\n",
      "Model Trained with params [ 0.05618715 -0.10958154  0.05154128 -0.03087096 -0.01031357  0.4459801\n",
      " -0.12091096 -0.02644384 -0.09664649  0.05503214  0.386512  ]\n",
      "[0.50625]\n"
     ]
    }
   ],
   "source": [
    "for learn in lr:\n",
    "    wine_custom_model = LR(learn, n_iter)\n",
    "    print(\"accuracy of learning rate \" + str(learn) + \": \" + k_fold_validation(wine_X, wine_y, wine_custom_model,5))\n"
   ]
  },
  {
   "cell_type": "code",
   "execution_count": 98,
   "metadata": {},
   "outputs": [
    {
     "name": "stdout",
     "output_type": "stream",
     "text": [
      "Model Trained with params [-0.49600497  1.14398828  0.22088083  0.26713495 -1.21210938  0.73346922\n",
      " -0.46622025  0.37694076 -0.43737134]\n",
      "Model Trained with params [-0.37420852  0.8615293   0.18302236  0.12155875 -0.81862282  0.52428512\n",
      " -0.43296915  0.4206701  -0.23937308]\n",
      "Model Trained with params [-0.38093246  0.91163657  0.25894011  0.11819197 -0.72017841  0.47040403\n",
      " -0.51237423  0.33900947 -0.20705145]\n",
      "Model Trained with params [-0.26098629  1.01061371  0.12527862  0.19141175 -0.73089829  0.55224301\n",
      " -0.71148925  0.3672397  -0.2588642 ]\n",
      "Model Trained with params [-0.26952521  0.70271451  0.24362436  0.10533021 -0.58740615  0.5068322\n",
      " -0.59282275  0.29666805 -0.19794776]\n",
      "accuracy of learning rate0.1: [0.79562044]\n",
      "Model Trained with params [-0.49600497  1.14398828  0.22088083  0.26713495 -1.21210938  0.73346922\n",
      " -0.46622025  0.37694076 -0.43737134]\n",
      "Model Trained with params [-0.37420852  0.8615293   0.18302236  0.12155875 -0.81862282  0.52428512\n",
      " -0.43296915  0.4206701  -0.23937308]\n",
      "Model Trained with params [-0.38093246  0.91163657  0.25894011  0.11819197 -0.72017841  0.47040403\n",
      " -0.51237423  0.33900947 -0.20705145]\n",
      "Model Trained with params [-0.26098629  1.01061371  0.12527862  0.19141175 -0.73089829  0.55224301\n",
      " -0.71148925  0.3672397  -0.2588642 ]\n",
      "Model Trained with params [-0.26952521  0.70271451  0.24362436  0.10533021 -0.58740615  0.5068322\n",
      " -0.59282275  0.29666805 -0.19794776]\n",
      "accuracy of learning rate0.01: [0.79562044]\n",
      "Model Trained with params [-0.49600497  1.14398828  0.22088083  0.26713495 -1.21210938  0.73346922\n",
      " -0.46622025  0.37694076 -0.43737134]\n",
      "Model Trained with params [-0.37420852  0.8615293   0.18302236  0.12155875 -0.81862282  0.52428512\n",
      " -0.43296915  0.4206701  -0.23937308]\n",
      "Model Trained with params [-0.38093246  0.91163657  0.25894011  0.11819197 -0.72017841  0.47040403\n",
      " -0.51237423  0.33900947 -0.20705145]\n",
      "Model Trained with params [-0.26098629  1.01061371  0.12527862  0.19141175 -0.73089829  0.55224301\n",
      " -0.71148925  0.3672397  -0.2588642 ]\n",
      "Model Trained with params [-0.26952521  0.70271451  0.24362436  0.10533021 -0.58740615  0.5068322\n",
      " -0.59282275  0.29666805 -0.19794776]\n",
      "accuracy of learning rate0.001: [0.79562044]\n",
      "Model Trained with params [-0.49600497  1.14398828  0.22088083  0.26713495 -1.21210938  0.73346922\n",
      " -0.46622025  0.37694076 -0.43737134]\n",
      "Model Trained with params [-0.37420852  0.8615293   0.18302236  0.12155875 -0.81862282  0.52428512\n",
      " -0.43296915  0.4206701  -0.23937308]\n",
      "Model Trained with params [-0.38093246  0.91163657  0.25894011  0.11819197 -0.72017841  0.47040403\n",
      " -0.51237423  0.33900947 -0.20705145]\n",
      "Model Trained with params [-0.26098629  1.01061371  0.12527862  0.19141175 -0.73089829  0.55224301\n",
      " -0.71148925  0.3672397  -0.2588642 ]\n",
      "Model Trained with params [-0.26952521  0.70271451  0.24362436  0.10533021 -0.58740615  0.5068322\n",
      " -0.59282275  0.29666805 -0.19794776]\n",
      "accuracy of learning rate0.0001: [0.79562044]\n",
      "Model Trained with params [-0.49600497  1.14398828  0.22088083  0.26713495 -1.21210938  0.73346922\n",
      " -0.46622025  0.37694076 -0.43737134]\n",
      "Model Trained with params [-0.37420852  0.8615293   0.18302236  0.12155875 -0.81862282  0.52428512\n",
      " -0.43296915  0.4206701  -0.23937308]\n",
      "Model Trained with params [-0.38093246  0.91163657  0.25894011  0.11819197 -0.72017841  0.47040403\n",
      " -0.51237423  0.33900947 -0.20705145]\n",
      "Model Trained with params [-0.26098629  1.01061371  0.12527862  0.19141175 -0.73089829  0.55224301\n",
      " -0.71148925  0.3672397  -0.2588642 ]\n",
      "Model Trained with params [-0.26952521  0.70271451  0.24362436  0.10533021 -0.58740615  0.5068322\n",
      " -0.59282275  0.29666805 -0.19794776]\n",
      "accuracy of learning rate1e-05: [0.79562044]\n"
     ]
    }
   ],
   "source": [
    "for learn in lr:\n",
    "    cancer_custom_model = LR(learnrate, max_iter)\n",
    "    acc = k_fold_validation(cancer_X, cancer_y, cancer_custom_model, 5)\n",
    "    print(\"accuracy of learning rate \" + str(learn) + \": \" + str(acc))"
   ]
  },
  {
   "cell_type": "code",
   "execution_count": null,
   "metadata": {},
   "outputs": [],
   "source": []
  }
 ],
 "metadata": {
  "kernelspec": {
   "display_name": "Python 3",
   "language": "python",
   "name": "python3"
  },
  "language_info": {
   "codemirror_mode": {
    "name": "ipython",
    "version": 3
   },
   "file_extension": ".py",
   "mimetype": "text/x-python",
   "name": "python",
   "nbconvert_exporter": "python",
   "pygments_lexer": "ipython3",
   "version": "3.7.4"
  }
 },
 "nbformat": 4,
 "nbformat_minor": 2
}
